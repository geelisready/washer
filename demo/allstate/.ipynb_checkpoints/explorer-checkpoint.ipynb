{
 "cells": [
  {
   "cell_type": "code",
   "execution_count": 1,
   "metadata": {
    "collapsed": false
   },
   "outputs": [
    {
     "name": "stdout",
     "output_type": "stream",
     "text": [
      "Populating the interactive namespace from numpy and matplotlib\n"
     ]
    }
   ],
   "source": [
    "#!/usr/bin/env python\n",
    "# coding=utf-8\n",
    "# -------- import basic package --------\n",
    "%pylab inline\n",
    "import pdb\n",
    "import numpy as np\n",
    "import pandas as pd\n",
    "from pandas import Series, DataFrame\n",
    "import warnings\n",
    "from datetime import datetime\n",
    "import matplotlib.pylab as plt\n",
    "\n",
    "PATH = 'F:/codeGit/dataset/Allstate/'\n",
    "FILE = 'train.csv'\n",
    "FILE_TEST = 'train.csv'"
   ]
  },
  {
   "cell_type": "code",
   "execution_count": 2,
   "metadata": {
    "collapsed": false
   },
   "outputs": [
    {
     "name": "stdout",
     "output_type": "stream",
     "text": [
      "   customer_ID  shopping_pt  record_type  day   time state  location  \\\n",
      "0     10000000            1            0    0  08:35    IN     10001   \n",
      "1     10000000            2            0    0  08:38    IN     10001   \n",
      "2     10000000            3            0    0  08:38    IN     10001   \n",
      "3     10000000            4            0    0  08:39    IN     10001   \n",
      "4     10000000            5            0    0  11:55    IN     10001   \n",
      "5     10000000            6            0    0  11:57    IN     10001   \n",
      "6     10000000            7            0    0  11:58    IN     10001   \n",
      "7     10000000            8            0    0  12:03    IN     10001   \n",
      "8     10000000            9            1    0  12:07    IN     10001   \n",
      "9     10000005            1            0    3  08:56    NY     10006   \n",
      "\n",
      "   group_size  homeowner  car_age  ...  C_previous  duration_previous  A  B  \\\n",
      "0           2          0        2  ...         1.0                2.0  1  0   \n",
      "1           2          0        2  ...         1.0                2.0  1  0   \n",
      "2           2          0        2  ...         1.0                2.0  1  0   \n",
      "3           2          0        2  ...         1.0                2.0  1  0   \n",
      "4           2          0        2  ...         1.0                2.0  1  0   \n",
      "5           2          0        2  ...         1.0                2.0  1  0   \n",
      "6           2          0        2  ...         1.0                2.0  1  0   \n",
      "7           2          0        2  ...         1.0                2.0  1  0   \n",
      "8           2          0        2  ...         1.0                2.0  1  0   \n",
      "9           1          0       10  ...         3.0               13.0  1  1   \n",
      "\n",
      "   C  D  E  F  G  cost  \n",
      "0  2  2  1  2  2   633  \n",
      "1  2  2  1  2  1   630  \n",
      "2  2  2  1  2  1   630  \n",
      "3  2  2  1  2  1   630  \n",
      "4  2  2  1  2  1   630  \n",
      "5  2  2  1  2  1   638  \n",
      "6  2  2  1  2  1   638  \n",
      "7  2  2  1  2  1   638  \n",
      "8  2  2  1  2  1   634  \n",
      "9  3  3  1  0  2   755  \n",
      "\n",
      "[10 rows x 25 columns]\n"
     ]
    }
   ],
   "source": [
    "df = pd.read_csv(PATH + FILE)\n",
    "print df[:10]"
   ]
  },
  {
   "cell_type": "code",
   "execution_count": 3,
   "metadata": {
    "collapsed": false
   },
   "outputs": [
    {
     "name": "stdout",
     "output_type": "stream",
     "text": [
      "\n",
      " ratio of the missing value for every column:\n",
      "\n",
      "customer_ID: no missing value\n",
      "shopping_pt: no missing value\n",
      "record_type: no missing value\n",
      "day: no missing value\n",
      "time: no missing value\n",
      "state: no missing value\n",
      "location: no missing value\n",
      "group_size: no missing value\n",
      "homeowner: no missing value\n",
      "car_age: no missing value\n",
      "car_value: 0.23%\n",
      "risk_factor: 36.14%\n",
      "age_oldest: no missing value\n",
      "age_youngest: no missing value\n",
      "married_couple: no missing value\n",
      "C_previous: 2.81%\n",
      "duration_previous: 2.81%\n",
      "A: no missing value\n",
      "B: no missing value\n",
      "C: no missing value\n",
      "D: no missing value\n",
      "E: no missing value\n",
      "F: no missing value\n",
      "G: no missing value\n",
      "cost: no missing value\n",
      "\n",
      " ratio of the missing value for the table: 1.68%\n"
     ]
    },
    {
     "data": {
      "image/png": "[encoded data removed]",
      "text/plain": [
       "<matplotlib.figure.Figure at 0x7f86d30>"
      ]
     },
     "metadata": {},
     "output_type": "display_data"
    }
   ],
   "source": [
    "## 查看列缺失率\n",
    "def detectMissingRatio(df):\n",
    "    # pdb.set_trace()\n",
    "    print(\"\\n ratio of the missing value for every column:\\n\")\n",
    "\n",
    "    columns = df.columns.tolist()\n",
    "    lossRatio = []\n",
    "    for col in columns:\n",
    "        if df[col].count() == df[col].size:\n",
    "            print '%s: no missing value' %(col)\n",
    "            lossRatio.append(0)\n",
    "        else: \n",
    "            print '%s: %.2f%%' %(col, (1.0 - 1.0 * df[col].count() / df[col].size) * 100)\n",
    "            lossRatio.append((1.0 - 1.0 * df[col].count() / df[col].size) * 100)\n",
    "\n",
    "    print '\\n ratio of the missing value for the table: %.2f%%' %((1.0 - 1.0 * df.count().sum() / df.size)  * 100)\n",
    "    df_statis = DataFrame(np.array([columns, lossRatio]).T, columns = ['col', 'loss_ratio'])\n",
    "    df_statis['loss_ratio'] = df_statis['loss_ratio'].apply(lambda x : float(x))\n",
    "    df_statis.plot(kind='bar', secondary_y=['loss_ratio'], figsize=(15, 4))\n",
    "    \n",
    "detectMissingRatio(df)"
   ]
  },
  {
   "cell_type": "code",
   "execution_count": 4,
   "metadata": {
    "collapsed": false
   },
   "outputs": [
    {
     "name": "stdout",
     "output_type": "stream",
     "text": [
      "   customer_ID  shopping_pt  record_type  day   time state  location  \\\n",
      "0     10000000            1            0    0  08:35    IN     10001   \n",
      "1     10000000            2            0    0  08:38    IN     10001   \n",
      "2     10000000            3            0    0  08:38    IN     10001   \n",
      "3     10000000            4            0    0  08:39    IN     10001   \n",
      "4     10000000            5            0    0  11:55    IN     10001   \n",
      "5     10000000            6            0    0  11:57    IN     10001   \n",
      "6     10000000            7            0    0  11:58    IN     10001   \n",
      "7     10000000            8            0    0  12:03    IN     10001   \n",
      "8     10000000            9            1    0  12:07    IN     10001   \n",
      "9     10000005            1            0    3  08:56    NY     10006   \n",
      "\n",
      "   group_size  homeowner  car_age  ...  C_previous  duration_previous  A  B  \\\n",
      "0           2          0        2  ...         1.0                2.0  1  0   \n",
      "1           2          0        2  ...         1.0                2.0  1  0   \n",
      "2           2          0        2  ...         1.0                2.0  1  0   \n",
      "3           2          0        2  ...         1.0                2.0  1  0   \n",
      "4           2          0        2  ...         1.0                2.0  1  0   \n",
      "5           2          0        2  ...         1.0                2.0  1  0   \n",
      "6           2          0        2  ...         1.0                2.0  1  0   \n",
      "7           2          0        2  ...         1.0                2.0  1  0   \n",
      "8           2          0        2  ...         1.0                2.0  1  0   \n",
      "9           1          0       10  ...         3.0               13.0  1  1   \n",
      "\n",
      "   C  D  E  F  G  cost  \n",
      "0  2  2  1  2  2   633  \n",
      "1  2  2  1  2  1   630  \n",
      "2  2  2  1  2  1   630  \n",
      "3  2  2  1  2  1   630  \n",
      "4  2  2  1  2  1   630  \n",
      "5  2  2  1  2  1   638  \n",
      "6  2  2  1  2  1   638  \n",
      "7  2  2  1  2  1   638  \n",
      "8  2  2  1  2  1   634  \n",
      "9  3  3  1  0  2   755  \n",
      "\n",
      "[10 rows x 24 columns] (645648, 24)\n"
     ]
    }
   ],
   "source": [
    "## 去除缺失率的列与行\n",
    "columns = df.columns.tolist()\n",
    "df = df.drop([columns[11]], axis = 1).dropna(axis = 0, how = 'any')\n",
    "print df[:10],df.shape"
   ]
  },
  {
   "cell_type": "code",
   "execution_count": 6,
   "metadata": {
    "collapsed": true
   },
   "outputs": [],
   "source": [
    "df[:100000].to_csv(PATH + 'test.csv', index = False, mode = 'w')"
   ]
  },
  {
   "cell_type": "code",
   "execution_count": 7,
   "metadata": {
    "collapsed": true
   },
   "outputs": [],
   "source": [
    "df_excel = pd.read_excel(PATH + 'test.xlsx')\n"
   ]
  },
  {
   "cell_type": "code",
   "execution_count": 8,
   "metadata": {
    "collapsed": false
   },
   "outputs": [
    {
     "name": "stdout",
     "output_type": "stream",
     "text": [
      "   customer_ID  shopping_pt  record_type  day      time state  location  \\\n",
      "0     10000000            1            0    0  08:35:00    IN     10001   \n",
      "1     10000000            2            0    0  08:38:00    IN     10001   \n",
      "2     10000000            3            0    0  08:38:00    IN     10001   \n",
      "3     10000000            4            0    0  08:39:00    IN     10001   \n",
      "4     10000000            5            0    0  11:55:00    IN     10001   \n",
      "5     10000000            6            0    0  11:57:00    IN     10001   \n",
      "6     10000000            7            0    0  11:58:00    IN     10001   \n",
      "7     10000000            8            0    0  12:03:00    IN     10001   \n",
      "8     10000000            9            1    0  12:07:00    IN     10001   \n",
      "9     10000005            1            0    3  08:56:00    NY     10006   \n",
      "\n",
      "   group_size  homeowner  car_age  ...  C_previous  duration_previous  A  B  \\\n",
      "0           2          0        2  ...           1                  2  1  0   \n",
      "1           2          0        2  ...           1                  2  1  0   \n",
      "2           2          0        2  ...           1                  2  1  0   \n",
      "3           2          0        2  ...           1                  2  1  0   \n",
      "4           2          0        2  ...           1                  2  1  0   \n",
      "5           2          0        2  ...           1                  2  1  0   \n",
      "6           2          0        2  ...           1                  2  1  0   \n",
      "7           2          0        2  ...           1                  2  1  0   \n",
      "8           2          0        2  ...           1                  2  1  0   \n",
      "9           1          0       10  ...           3                 13  1  1   \n",
      "\n",
      "   C  D  E  F  G  cost  \n",
      "0  2  2  1  2  2   633  \n",
      "1  2  2  1  2  1   630  \n",
      "2  2  2  1  2  1   630  \n",
      "3  2  2  1  2  1   630  \n",
      "4  2  2  1  2  1   630  \n",
      "5  2  2  1  2  1   638  \n",
      "6  2  2  1  2  1   638  \n",
      "7  2  2  1  2  1   638  \n",
      "8  2  2  1  2  1   634  \n",
      "9  3  3  1  0  2   755  \n",
      "\n",
      "[10 rows x 24 columns]\n"
     ]
    }
   ],
   "source": [
    "print df_excel[:10]\n",
    "\n"
   ]
  },
  {
   "cell_type": "code",
   "execution_count": null,
   "metadata": {
    "collapsed": true
   },
   "outputs": [],
   "source": [
    "df_1 = df_excel\n",
    "df_2 = df_excel\n",
    "\n",
    "df = df_1[df_1['day'].isin(df_2['day'])]\n",
    "print df[]:10"
   ]
  }
 ],
 "metadata": {
  "kernelspec": {
   "display_name": "Python 2",
   "language": "python",
   "name": "python2"
  },
  "language_info": {
   "codemirror_mode": {
    "name": "ipython",
    "version": 2
   },
   "file_extension": ".py",
   "mimetype": "text/x-python",
   "name": "python",
   "nbconvert_exporter": "python",
   "pygments_lexer": "ipython2",
   "version": "2.7.11"
  }
 },
 "nbformat": 4,
 "nbformat_minor": 0
}
