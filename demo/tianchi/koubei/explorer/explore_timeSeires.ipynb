{
 "cells": [
  {
   "cell_type": "markdown",
   "metadata": {
    "collapsed": true
   },
   "source": [
    "# 时间序列分析"
   ]
  },
  {
   "cell_type": "markdown",
   "metadata": {},
   "source": [
    "## 1、Arima序列预测"
   ]
  },
  {
   "cell_type": "code",
   "execution_count": 1,
   "metadata": {
    "collapsed": false
   },
   "outputs": [
    {
     "name": "stdout",
     "output_type": "stream",
     "text": [
      "Populating the interactive namespace from numpy and matplotlib\n"
     ]
    }
   ],
   "source": [
    "#!/usr/bin/env python\n",
    "# coding=utf-8\n",
    "# -------- import basic package --------\n",
    "%pylab inline\n",
    "import pdb\n",
    "import numpy as np\n",
    "import pandas as pd\n",
    "from pandas import Series, DataFrame\n",
    "import warnings\n",
    "import random\n",
    "from datetime import datetime\n",
    "import matplotlib.pylab as plt\n",
    "\n",
    "from scipy import  stats\n",
    "import matplotlib.pyplot as plt\n",
    "import statsmodels.api as sm\n",
    "from statsmodels.graphics.api import qqplot\n",
    "\n",
    "PATH = 'F:/codeGit/dataset/koubei/dataset/'\n",
    "FILE_SHOP = 'shop_info.csv'\n",
    "FILE_PAY = 'user_pay.csv'\n",
    "FILE_VIEW = 'user_view.csv'"
   ]
  },
  {
   "cell_type": "markdown",
   "metadata": {},
   "source": [
    "### 读入2016年06月的所有商户的数据"
   ]
  },
  {
   "cell_type": "code",
   "execution_count": null,
   "metadata": {
    "collapsed": true
   },
   "outputs": [],
   "source": [
    "import MySQLdb\n",
    "db = MySQLdb.connect(\"localhost\", \"root\", \"7366798\", \"tianchi_koubei\")\n",
    "cursor = db.cursor()\n",
    "# sql ='alter table user_pay add index time_idx (time(7));'\n",
    "sql ='select\\\n",
    "        user_id,\\\n",
    "        shop_id,\\\n",
    "        time\\\n",
    "    from\\\n",
    "        user_pay\\\n",
    "    where\\\n",
    "        time >= \"2016-05\" and time < \"2016-07\";'\n",
    "cursor.execute(sql)\n",
    "df_pay = DataFrame(list(cursor.fetchall()), columns = ['user_id', 'shop_id', 'time'])\n",
    "db.close()"
   ]
  },
  {
   "cell_type": "code",
   "execution_count": null,
   "metadata": {
    "collapsed": true
   },
   "outputs": [],
   "source": [
    "df_shop_profit_201606 = pd.DataFrame(dict(\n",
    "    nConsomer_day = df_pay.groupby(['shop_id', 'time']).size()\n",
    ")).reset_index()\n",
    "print df_shop_profie_201606[ : 5]\n",
    "\n",
    "lis_shops = df_shop_profit_201606.ship_id,unique().tolist()\n",
    "for i in  range(5):\n",
    "    df_shop_profie_201606[df_shop_profie_201606.shop_id == lis_shops[i]][['time', 'nConsomer_day']].plot(kind='line', figsize=(15, 4))  "
   ]
  },
  {
   "cell_type": "code",
   "execution_count": null,
   "metadata": {
    "collapsed": true
   },
   "outputs": [],
   "source": [
    "df_shop = pd.read_csv(PATH + FILE_SHOP)\n",
    "d_shop_perPay = df_shop[['shop_id', 'per_pay']]\n",
    "df_shop_profie_201606 = pd.merge(\n",
    "    df_shop_profie_201606,\n",
    "    df_shop_perPay,\n",
    "    on = ['shop_id'], how = 'left'\n",
    ")\n",
    "df_shop_profie_201606['profit_day'] = df_shop_profie_201606['nConsomer_day'] * df_shop_profie_201606['per_pay']\n",
    "lis_shops = df_shop_profit_201606.ship_id,unique().tolist()\n",
    "for i in  range(5):\n",
    "    df_shop_profie_201606[df_shop_profie_201606.shop_id == lis_shops[i]][['time', 'profit_day']].plot(kind='line', figsize=(15, 4))  "
   ]
  },
  {
   "cell_type": "code",
   "execution_count": null,
   "metadata": {
    "collapsed": true
   },
   "outputs": [],
   "source": []
  }
 ],
 "metadata": {
  "kernelspec": {
   "display_name": "Python 2",
   "language": "python",
   "name": "python2"
  },
  "language_info": {
   "codemirror_mode": {
    "name": "ipython",
    "version": 2
   },
   "file_extension": ".py",
   "mimetype": "text/x-python",
   "name": "python",
   "nbconvert_exporter": "python",
   "pygments_lexer": "ipython2",
   "version": "2.7.11"
  }
 },
 "nbformat": 4,
 "nbformat_minor": 0
}
