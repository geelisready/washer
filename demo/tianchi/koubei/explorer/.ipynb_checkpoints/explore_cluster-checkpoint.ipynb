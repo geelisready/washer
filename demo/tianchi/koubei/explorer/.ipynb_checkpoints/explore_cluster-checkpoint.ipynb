{
 "cells": [
  {
   "cell_type": "markdown",
   "metadata": {},
   "source": [
    "# Notebook概要：\n",
    "- 第一部分：尝试最简单方法实现几种聚类方法\n",
    "- 第二部分：基于dtw距离实现几种聚类方法"
   ]
  },
  {
   "cell_type": "code",
   "execution_count": 2,
   "metadata": {
    "collapsed": false
   },
   "outputs": [
    {
     "name": "stdout",
     "output_type": "stream",
     "text": [
      "Populating the interactive namespace from numpy and matplotlib\n"
     ]
    }
   ],
   "source": [
    "#!/usr/bin/env python\n",
    "# coding=utf-8\n",
    "# -------- import basic package --------\n",
    "%pylab inline\n",
    "import pdb\n",
    "import numpy as np\n",
    "import pandas as pd\n",
    "from pandas import Series, DataFrame\n",
    "import warnings\n",
    "import random\n",
    "import datetime as dt\n",
    "import matplotlib.pylab as plt\n",
    "\n",
    "PATH = 'F:/codeGit/dataset/koubei/dataset/'\n",
    "FILE_SHOP = 'shop_info.csv'\n",
    "FILE_PAY = 'user_pay.csv'\n",
    "FILE_VIEW = 'user_view.csv'"
   ]
  },
  {
   "cell_type": "code",
   "execution_count": 5,
   "metadata": {
    "collapsed": false
   },
   "outputs": [],
   "source": [
    "df_shop = pd.read_csv(PATH + FILE_SHOP)\n",
    "df_shopPay = pd.read_csv(PATH + 'df_shop_fillna1.csv')\n",
    "df_shopView = pd.read_csv(PATH + 'df_view_fillna.csv')"
   ]
  },
  {
   "cell_type": "code",
   "execution_count": 8,
   "metadata": {
    "collapsed": false
   },
   "outputs": [
    {
     "name": "stdout",
     "output_type": "stream",
     "text": [
      "Finished 500 shop\n",
      "Finished 1000 shop\n",
      "Finished 1500 shop\n",
      "Finished 2000 shop\n"
     ]
    }
   ],
   "source": [
    "## 生成数据集\n",
    "day_dt = pd.to_datetime(df_shopPay['date'].unique().max()) - pd.to_datetime(df_shopPay['date'].unique().min())\n",
    "# day_dt = pd.to_datetime('2016.10.31') - pd.to_datetime('2015-07-01')\n",
    "days = day_dt.days + 1\n",
    "len_sample = days\n",
    "cnt = 0\n",
    "samples = np.zeros([len(df_shop), len_sample])\n",
    "for i in range(len(df_shop)):\n",
    "    shop_cur = df_shop['shop_id'].iloc[i]\n",
    "    df_temp = df_shopPay[df_shopPay.shop_id == shop_cur]\n",
    "    df_temp.index = df_temp.date\n",
    "    df_temp = df_temp.sort_index()\n",
    "    sample = df_temp['user_pay_cnt'].values\n",
    "    samples[i] = sample\n",
    "    cnt = cnt + 1\n",
    "    if (cnt % 500) == 0:\n",
    "        print 'Finished %d shop' %(cnt)"
   ]
  },
  {
   "cell_type": "markdown",
   "metadata": {},
   "source": [
    "## 第一部分"
   ]
  },
  {
   "cell_type": "markdown",
   "metadata": {},
   "source": [
    "### 自定义距离"
   ]
  },
  {
   "cell_type": "code",
   "execution_count": 9,
   "metadata": {
    "collapsed": false
   },
   "outputs": [
    {
     "name": "stdout",
     "output_type": "stream",
     "text": [
      "(2000L, 489L) 2000\n"
     ]
    }
   ],
   "source": [
    "print samples.shape, len(samples)"
   ]
  },
  {
   "cell_type": "markdown",
   "metadata": {},
   "source": [
    "#### 欧几里得距离"
   ]
  },
  {
   "cell_type": "code",
   "execution_count": 20,
   "metadata": {
    "collapsed": false
   },
   "outputs": [
    {
     "name": "stdout",
     "output_type": "stream",
     "text": [
      "[[    0.          4595.34688571  4434.82897077 ...,  4067.12601231\n",
      "   3306.83413554  4150.01072288]\n",
      " [ 4595.34688571     0.          3723.72595662 ...,  4538.44852345\n",
      "   4449.15553785  3792.71274947]\n",
      " [ 4434.82897077  3723.72595662     0.         ...,  3145.01701108\n",
      "   4922.70291608  1141.11480579]\n",
      " ..., \n",
      " [ 4067.12601231  4538.44852345  3145.01701108 ...,     0.          4187.44504442\n",
      "   2692.92721773]\n",
      " [ 3306.83413554  4449.15553785  4922.70291608 ...,  4187.44504442     0.\n",
      "   4577.36572714]\n",
      " [ 4150.01072288  3792.71274947  1141.11480579 ...,  2692.92721773\n",
      "   4577.36572714     0.        ]]\n",
      "(2000L, 2000L)\n"
     ]
    }
   ],
   "source": [
    "from sklearn.metrics.pairwise import euclidean_distances\n",
    "distance_matrix =  euclidean_distances(samples)\n",
    "print distance_matrix\n",
    "print distance_matrix.shape"
   ]
  },
  {
   "cell_type": "markdown",
   "metadata": {},
   "source": [
    "#### 皮尔逊系数"
   ]
  },
  {
   "cell_type": "code",
   "execution_count": 23,
   "metadata": {
    "collapsed": false
   },
   "outputs": [
    {
     "name": "stdout",
     "output_type": "stream",
     "text": [
      "finished 100\n",
      "finished 100\n",
      "finished 100\n",
      "finished 100\n",
      "finished 100\n",
      "finished 100\n",
      "finished 100\n",
      "finished 100\n",
      "finished 100\n",
      "finished 100\n",
      "finished 100\n",
      "finished 100\n",
      "finished 100\n",
      "finished 100\n",
      "finished 100\n",
      "finished 100\n",
      "finished 100\n",
      "finished 100\n",
      "finished 100\n",
      "finished 100\n"
     ]
    }
   ],
   "source": [
    "import numpy as np\n",
    "from scipy.stats import pearsonr\n",
    "\n",
    "nSample = len(samples)\n",
    "X = np.zeros([nSample, nSample])\n",
    "             \n",
    "for k in range(nSample):\n",
    "    x = np.zeros([nSample])\n",
    "    for i in range(nSample):\n",
    "        x[i] = pearsonr(samples[k, :], samples[i, :])[0]\n",
    "    X[k] = x\n",
    "    if k % 100 == 0:\n",
    "        print 'finished 100'"
   ]
  },
  {
   "cell_type": "code",
   "execution_count": 50,
   "metadata": {
    "collapsed": false
   },
   "outputs": [
    {
     "name": "stdout",
     "output_type": "stream",
     "text": [
      "[[  1.00000000e+00   1.71014100e-01   2.75156936e-01 ...,   2.09593350e-01\n",
      "    4.18208997e-01   2.50812081e-01]\n",
      " [  1.71014100e-01   1.00000000e+00   6.45204336e-02 ...,  -1.92319972e-04\n",
      "    4.41756948e-01   1.76395831e-02]\n",
      " [  2.75156936e-01   6.45204336e-02   1.00000000e+00 ...,   3.81589771e-01\n",
      "    5.57770351e-01   6.54481965e-01]\n",
      " ..., \n",
      " [  2.09593350e-01  -1.92319972e-04   3.81589771e-01 ...,   1.00000000e+00\n",
      "    4.03633033e-01   5.53052335e-01]\n",
      " [  4.18208997e-01   4.41756948e-01   5.57770351e-01 ...,   4.03633033e-01\n",
      "    1.00000000e+00   4.62843114e-01]\n",
      " [  2.50812081e-01   1.76395831e-02   6.54481965e-01 ...,   5.53052335e-01\n",
      "    4.62843114e-01   1.00000000e+00]] (2000L, 2000L)\n"
     ]
    }
   ],
   "source": [
    "print X, X.shape"
   ]
  },
  {
   "cell_type": "code",
   "execution_count": 76,
   "metadata": {
    "collapsed": true
   },
   "outputs": [],
   "source": [
    "def clusterDetect(labels):\n",
    "    nSample = len(labels)\n",
    "    cluster = {}\n",
    "    # nCluster = len(set(labels))\n",
    "    for i in set(labels):\n",
    "        labels = pd.DataFrame(labels, columns = ['label'])\n",
    "        cluster[i] = labels[labels.label == i].index.tolist()\n",
    "    \n",
    "    noise_cluster = [-1]\n",
    "    nSamlpeNotClustered = 0\n",
    "    sampleNotCluster = []\n",
    "    for i in cluster:\n",
    "        if i in noise_cluster:\n",
    "            nSamlpeNotClustered = nSamlpeNotClustered + len(cluster[i])\n",
    "            sampleNotCluster.extend(cluster[i])\n",
    "    print '%d samples were clustered' %(2000 - nSamlpeNotClustered)\n",
    "    print 'sample not clustered: %s' %(sampleNotCluster)"
   ]
  },
  {
   "cell_type": "markdown",
   "metadata": {},
   "source": [
    "#### 使用DBSCAN聚类"
   ]
  },
  {
   "cell_type": "code",
   "execution_count": null,
   "metadata": {
    "collapsed": true
   },
   "outputs": [],
   "source": [
    "from sklearn.cluster import DBSCAN\n",
    "from sklearn import metrics\n",
    "from sklearn.datasets.samples_generator import make_blobs\n",
    "from sklearn.preprocessing import StandardScaler\n",
    "\n",
    "metric='precomputed'\n",
    "db = DBSCAN(eps=0.3, min_samples=10, metric=metric).fit(X)\n",
    "core_samples_mask = np.zeros_like(db.labels_, dtype=bool)\n",
    "core_samples_mask[db.core_sample_indices_] = True\n",
    "labels = db.labels_\n",
    "\n",
    "# Number of clusters in labels, ignoring noise if present.\n",
    "n_clusters_ = len(set(labels)) - (1 if -1 in labels else 0)\n",
    "# n_clusters_ = len(labels)\n",
    "print 'Estimated number of clusters: %d，%d' % (n_clusters_, len(set(labels)))\n",
    "print labels"
   ]
  },
  {
   "cell_type": "code",
   "execution_count": 97,
   "metadata": {
    "collapsed": false
   },
   "outputs": [
    {
     "name": "stdout",
     "output_type": "stream",
     "text": [
      "Estimated number of clusters: 1，2\n",
      "[0 0 0 ..., 0 0 0]\n",
      "1998 samples were clustered\n",
      "sample not clustered: [16, 728]\n"
     ]
    }
   ],
   "source": [
    "from sklearn.cluster import DBSCAN\n",
    "from sklearn import metrics\n",
    "from sklearn.datasets.samples_generator import make_blobs\n",
    "from sklearn.preprocessing import StandardScaler\n",
    "\n",
    "metric='precomputed'\n",
    "db = DBSCAN(eps=0.3, min_samples=100, metric=metric).fit(X)\n",
    "core_samples_mask = np.zeros_like(db.labels_, dtype=bool)\n",
    "core_samples_mask[db.core_sample_indices_] = True\n",
    "labels = db.labels_\n",
    "\n",
    "# Number of clusters in labels, ignoring noise if present.\n",
    "n_clusters_ = len(set(labels)) - (1 if -1 in labels else 0)\n",
    "# n_clusters_ = len(labels)\n",
    "print 'Estimated number of clusters: %d，%d' % (n_clusters_, len(set(labels)))\n",
    "print labels\n",
    "clusterDetect(labels)"
   ]
  },
  {
   "cell_type": "markdown",
   "metadata": {},
   "source": [
    "#### 使用层次聚类"
   ]
  },
  {
   "cell_type": "code",
   "execution_count": 65,
   "metadata": {
    "collapsed": false
   },
   "outputs": [
    {
     "name": "stdout",
     "output_type": "stream",
     "text": [
      "Estimated number of clusters: 2000，2000\n",
      "[   0    1    2 ..., 1997 1998 1999]\n"
     ]
    }
   ],
   "source": [
    "from sklearn.cluster import AffinityPropagation\n",
    "\n",
    "af1 = AffinityPropagation(affinity='precomputed', preference=-50).fit(X.T)\n",
    "cluster_centers_indices1 = af1.cluster_centers_indices_ # 得到聚类的中心\n",
    "labels1 = af1.labels_ # 得到label\n",
    "n_clusters1 = len(cluster_centers_indices1) # 类的数目\n",
    "# n_clusters_ = len(labels)\n",
    "print 'Estimated number of clusters: %d，%d' % (n_clusters1, len(set(labels1)))\n",
    "print labels1"
   ]
  },
  {
   "cell_type": "markdown",
   "metadata": {},
   "source": [
    "## 第二部分"
   ]
  },
  {
   "cell_type": "code",
   "execution_count": 12,
   "metadata": {
    "collapsed": false
   },
   "outputs": [
    {
     "name": "stdout",
     "output_type": "stream",
     "text": [
      "Help on module dtw:\n",
      "\n",
      "NAME\n",
      "    dtw\n",
      "\n",
      "FILE\n",
      "    d:\\anaconda2\\lib\\site-packages\\dtw.py\n",
      "\n",
      "FUNCTIONS\n",
      "    array(...)\n",
      "        array(object, dtype=None, copy=True, order=None, subok=False, ndmin=0)\n",
      "        \n",
      "        Create an array.\n",
      "        \n",
      "        Parameters\n",
      "        ----------\n",
      "        object : array_like\n",
      "            An array, any object exposing the array interface, an\n",
      "            object whose __array__ method returns an array, or any\n",
      "            (nested) sequence.\n",
      "        dtype : data-type, optional\n",
      "            The desired data-type for the array.  If not given, then\n",
      "            the type will be determined as the minimum type required\n",
      "            to hold the objects in the sequence.  This argument can only\n",
      "            be used to 'upcast' the array.  For downcasting, use the\n",
      "            .astype(t) method.\n",
      "        copy : bool, optional\n",
      "            If true (default), then the object is copied.  Otherwise, a copy\n",
      "            will only be made if __array__ returns a copy, if obj is a\n",
      "            nested sequence, or if a copy is needed to satisfy any of the other\n",
      "            requirements (`dtype`, `order`, etc.).\n",
      "        order : {'C', 'F', 'A'}, optional\n",
      "            Specify the order of the array.  If order is 'C', then the array\n",
      "            will be in C-contiguous order (last-index varies the fastest).\n",
      "            If order is 'F', then the returned array will be in\n",
      "            Fortran-contiguous order (first-index varies the fastest).\n",
      "            If order is 'A' (default), then the returned array may be\n",
      "            in any order (either C-, Fortran-contiguous, or even discontiguous),\n",
      "            unless a copy is required, in which case it will be C-contiguous.\n",
      "        subok : bool, optional\n",
      "            If True, then sub-classes will be passed-through, otherwise\n",
      "            the returned array will be forced to be a base-class array (default).\n",
      "        ndmin : int, optional\n",
      "            Specifies the minimum number of dimensions that the resulting\n",
      "            array should have.  Ones will be pre-pended to the shape as\n",
      "            needed to meet this requirement.\n",
      "        \n",
      "        Returns\n",
      "        -------\n",
      "        out : ndarray\n",
      "            An array object satisfying the specified requirements.\n",
      "        \n",
      "        See Also\n",
      "        --------\n",
      "        empty, empty_like, zeros, zeros_like, ones, ones_like, fill\n",
      "        \n",
      "        Examples\n",
      "        --------\n",
      "        >>> np.array([1, 2, 3])\n",
      "        array([1, 2, 3])\n",
      "        \n",
      "        Upcasting:\n",
      "        \n",
      "        >>> np.array([1, 2, 3.0])\n",
      "        array([ 1.,  2.,  3.])\n",
      "        \n",
      "        More than one dimension:\n",
      "        \n",
      "        >>> np.array([[1, 2], [3, 4]])\n",
      "        array([[1, 2],\n",
      "               [3, 4]])\n",
      "        \n",
      "        Minimum dimensions 2:\n",
      "        \n",
      "        >>> np.array([1, 2, 3], ndmin=2)\n",
      "        array([[1, 2, 3]])\n",
      "        \n",
      "        Type provided:\n",
      "        \n",
      "        >>> np.array([1, 2, 3], dtype=complex)\n",
      "        array([ 1.+0.j,  2.+0.j,  3.+0.j])\n",
      "        \n",
      "        Data-type consisting of more than one element:\n",
      "        \n",
      "        >>> x = np.array([(1,2),(3,4)],dtype=[('a','<i4'),('b','<i4')])\n",
      "        >>> x['a']\n",
      "        array([1, 3])\n",
      "        \n",
      "        Creating an array from sub-classes:\n",
      "        \n",
      "        >>> np.array(np.mat('1 2; 3 4'))\n",
      "        array([[1, 2],\n",
      "               [3, 4]])\n",
      "        \n",
      "        >>> np.array(np.mat('1 2; 3 4'), subok=True)\n",
      "        matrix([[1, 2],\n",
      "                [3, 4]])\n",
      "    \n",
      "    dtw(x, y, dist)\n",
      "        Computes Dynamic Time Warping (DTW) of two sequences.\n",
      "        \n",
      "        :param array x: N1*M array\n",
      "        :param array y: N2*M array\n",
      "        :param func dist: distance used as cost measure\n",
      "        \n",
      "        Returns the minimum distance, the cost matrix, the accumulated cost matrix, and the wrap path.\n",
      "    \n",
      "    zeros(...)\n",
      "        zeros(shape, dtype=float, order='C')\n",
      "        \n",
      "        Return a new array of given shape and type, filled with zeros.\n",
      "        \n",
      "        Parameters\n",
      "        ----------\n",
      "        shape : int or sequence of ints\n",
      "            Shape of the new array, e.g., ``(2, 3)`` or ``2``.\n",
      "        dtype : data-type, optional\n",
      "            The desired data-type for the array, e.g., `numpy.int8`.  Default is\n",
      "            `numpy.float64`.\n",
      "        order : {'C', 'F'}, optional\n",
      "            Whether to store multidimensional data in C- or Fortran-contiguous\n",
      "            (row- or column-wise) order in memory.\n",
      "        \n",
      "        Returns\n",
      "        -------\n",
      "        out : ndarray\n",
      "            Array of zeros with the given shape, dtype, and order.\n",
      "        \n",
      "        See Also\n",
      "        --------\n",
      "        zeros_like : Return an array of zeros with shape and type of input.\n",
      "        ones_like : Return an array of ones with shape and type of input.\n",
      "        empty_like : Return an empty array with shape and type of input.\n",
      "        ones : Return a new array setting values to one.\n",
      "        empty : Return a new uninitialized array.\n",
      "        \n",
      "        Examples\n",
      "        --------\n",
      "        >>> np.zeros(5)\n",
      "        array([ 0.,  0.,  0.,  0.,  0.])\n",
      "        \n",
      "        >>> np.zeros((5,), dtype=np.int)\n",
      "        array([0, 0, 0, 0, 0])\n",
      "        \n",
      "        >>> np.zeros((2, 1))\n",
      "        array([[ 0.],\n",
      "               [ 0.]])\n",
      "        \n",
      "        >>> s = (2,2)\n",
      "        >>> np.zeros(s)\n",
      "        array([[ 0.,  0.],\n",
      "               [ 0.,  0.]])\n",
      "        \n",
      "        >>> np.zeros((2,), dtype=[('x', 'i4'), ('y', 'i4')]) # custom dtype\n",
      "        array([(0, 0), (0, 0)],\n",
      "              dtype=[('x', '<i4'), ('y', '<i4')])\n",
      "\n",
      "DATA\n",
      "    inf = inf\n",
      "\n",
      "\n"
     ]
    }
   ],
   "source": [
    "import dtw\n",
    "help(dtw)"
   ]
  },
  {
   "cell_type": "code",
   "execution_count": 14,
   "metadata": {
    "collapsed": false
   },
   "outputs": [
    {
     "name": "stdout",
     "output_type": "stream",
     "text": [
      "[   0.    0.    0.    0.    0.    0.    0.    0.    0.    0.    0.    0.\n",
      "    0.    0.    0.    0.    0.    0.    0.    0.    0.    0.    0.    0.\n",
      "    0.    0.    0.    0.    0.    0.    0.    0.    0.    0.    0.    0.\n",
      "    0.    0.    0.    0.    0.    0.    0.    0.    0.    0.    0.    0.\n",
      "    0.    0.    0.    0.    0.    0.    0.    0.    0.    0.    0.    0.\n",
      "    0.    0.    0.    0.    0.    0.    0.    0.    0.    0.    0.    0.\n",
      "    0.    0.    0.    0.    0.    0.    0.    0.    0.    0.    0.    0.\n",
      "    0.    0.    0.    0.    0.    0.    0.    0.    0.    0.    0.    0.\n",
      "    0.    0.    0.    0.    0.  188.  272.  257.  239.  277.  227.  242.\n",
      "  293.  291.  256.  262.  271.  260.  240.  291.  286.  264.  295.  310.\n",
      "  212.  331.  347.  381.  332.  404.  392.  496.  430.  351.  288.  274.\n",
      "  393.  346.  291.  370.  364.  369.  370.  300.  390.  400.  439.  415.\n",
      "  398.  393.  324.  461.  460.  518.  468.  462.  547.  289.  233.  243.\n",
      "  302.  186.  250.  286.  352.  247.  308.  416.    0.  217.  256.  211.\n",
      "  212.  217.  279.  262.  195.  250.  194.  234.  244.  322.  276.  191.\n",
      "  205.  170.  225.  245.  252.  195.  187.  140.  180.  197.  154.  200.\n",
      "  219.  173.  128.  159.  340.  217.  276.  207.  139.  172.  196.  192.\n",
      "  140.  144.  169.  174.  186.  205.  191.  163.  193.  237.  167.  222.\n",
      "  240.  207.  268.  239.  216.  128.  223.  211.  211.  205.  198.  181.\n",
      "  236.  204.  228.  215.  240.  159.  196.  155.  156.  175.  195.  199.\n",
      "  236.  250.  189.  190.  212.  179.  148.  229.  230.  165.  191.  136.\n",
      "  180.  178.  216.  250.  202.  195.  195.  167.  153.  194.  210.  189.\n",
      "  199.  214.  273.  276.  324.  332.  311.  187.  192.  202.  148.  237.\n",
      "  189.  188.  251.  194.  161.  198.  248.  245.  226.  212.  206.  219.\n",
      "  205.  231.  203.  210.  201.  183.  152.  204.  215.  172.  194.  223.\n",
      "  222.  208.  254.  249.  245.  224.  190.  219.  183.  168.  286.  215.\n",
      "  266.  142.  222.  192.  195.  217.  228.  178.  201.  215.  220.  193.\n",
      "  192.  204.  216.  227.  214.  188.  180.  224.  177.  229.  182.  176.\n",
      "  219.  183.  226.  252.  247.  185.  192.  246.  215.  209.  192.  149.\n",
      "  210.  211.  276.  227.  261.  231.  217.   86.  230.  168.  215.  245.\n",
      "  212.  215.  225.  179.  238.  242.  249.  203.  212.  249.  250.  225.\n",
      "  245.  290.  237.  242.  270.  233.  196.  214.  240.  260.  209.  216.\n",
      "  233.  212.  224.  260.  236.  227.  201.  185.  236.  203.  269.  251.\n",
      "  202.  239.  205.  391.  393.  522.  250.  248.  257.  293.  235.  254.\n",
      "  249.  263.  257.  234.  249.  239.  281.  235.  231.  246.  248.  248.\n",
      "  212.  291.  258.  288.  236.  221.  243.  261.  254.  266.  278.  234.\n",
      "  262.  262.  251.  283.  274.  252.  228.  220.  252.  196.  150.  252.\n",
      "  277.  233.  186.  223.  206.  220.  241.  272.  240.  225.  231.  164.\n",
      "  182.  303.  309.  212.  280.  277.  258.  232.  259.  247.  256.  239.\n",
      "  254.  239.  228.  244.  264.  264.  207.  244.  177.  207.  230.  202.\n",
      "  243.  216.  255.  172.  226.  257.  251.  281.  180.]\n"
     ]
    }
   ],
   "source": [
    "print samples[0]"
   ]
  },
  {
   "cell_type": "code",
   "execution_count": 27,
   "metadata": {
    "collapsed": false
   },
   "outputs": [
    {
     "name": "stdout",
     "output_type": "stream",
     "text": [
      "33.5040899796\n"
     ]
    }
   ],
   "source": [
    "x = samples[0].reshape(-1, 1)\n",
    "y = samples[1].reshape(-1, 1)\n",
    "dist, cost, acc, path = dtw.dtw(x, y, dist=lambda x, y: norm(x - y, ord=2))\n",
    "print dist"
   ]
  },
  {
   "cell_type": "code",
   "execution_count": 28,
   "metadata": {
    "collapsed": false
   },
   "outputs": [
    {
     "data": {
      "text/plain": [
       "(-0.5, 488.5)"
      ]
     },
     "execution_count": 28,
     "metadata": {},
     "output_type": "execute_result"
    },
    {
     "data": {
      "image/png": "[encoded data removed]",
      "text/plain": [
       "<matplotlib.figure.Figure at 0xb39ee10>"
      ]
     },
     "metadata": {},
     "output_type": "display_data"
    }
   ],
   "source": [
    "imshow(acc.T, origin='lower', cmap=cm.gray, interpolation='nearest')\n",
    "plot(path[0], path[1], 'w')\n",
    "xlim((-0.5, acc.shape[0]-0.5))\n",
    "ylim((-0.5, acc.shape[1]-0.5))"
   ]
  },
  {
   "cell_type": "markdown",
   "metadata": {},
   "source": [
    "该算法实现的复杂度极高，故采用另一种思路，先对数据进行groupby，而后再提取dtw进行聚类"
   ]
  },
  {
   "cell_type": "code",
   "execution_count": 38,
   "metadata": {
    "collapsed": true
   },
   "outputs": [],
   "source": [
    "def fit_date_mess(df, df_shop):\n",
    "    df['date'] = pd.to_datetime(df['date'], format = '%Y-%m-%d')\n",
    "    df['weekday'] = df['date'].dt.weekday\n",
    "    df['month'] = df['date'].dt.month\n",
    "    df['day_in_month'] = df['date'].dt.day\n",
    "    \n",
    "    df = pd.merge(\n",
    "            df,\n",
    "            df_shop[['shop_id','cate_3_name']],\n",
    "            on = 'shop_id', how = 'left'\n",
    "    )\n",
    "    return df\n",
    "  "
   ]
  },
  {
   "cell_type": "code",
   "execution_count": 56,
   "metadata": {
    "collapsed": false
   },
   "outputs": [
    {
     "name": "stdout",
     "output_type": "stream",
     "text": [
      "True\n"
     ]
    }
   ],
   "source": [
    "# 选取一个group中的一商户的信息进行分析\n",
    "df_shop['cate_3_name'] =  df_shop['cate_3_name'].fillna(df_shop['cate_2_name'])\n",
    "list_cast3name = df_shop['cate_3_name'].unique().tolist()\n",
    "print df_shop.iloc[0]['cate_3_name'] == list_cast3name[0]\n",
    "df_shopPay = fit_date_mess(df_shopPay, df_shop)\n",
    "\n",
    "shop_type = list_cast3name[0]\n",
    "df_shopPay1 = df_shopPay[df_shopPay.cate_3_name == shop_type]   "
   ]
  },
  {
   "cell_type": "code",
   "execution_count": 57,
   "metadata": {
    "collapsed": false
   },
   "outputs": [
    {
     "name": "stdout",
     "output_type": "stream",
     "text": [
      "[   1   19  111  150  165  188  209  227  259  280  284  370  402  428  432\n",
      "  466  501  547  585  629  635  638  639  686  704  723  725  760  765  770\n",
      "  813  862  881  902  907  920  923  984 1009 1040 1089 1100 1164 1258 1274\n",
      " 1278 1290 1301 1318 1323 1398 1444 1581 1621 1635 1658 1667 1668 1691 1694\n",
      " 1725 1760 1868 1877 1945 1952 1960]\n"
     ]
    }
   ],
   "source": [
    "print df_shopPay1.shop_id.unique()"
   ]
  },
  {
   "cell_type": "code",
   "execution_count": 58,
   "metadata": {
    "collapsed": true
   },
   "outputs": [],
   "source": [
    "## 生成数据集\n",
    "def gen_dataset(df):\n",
    "    day_dt = pd.to_datetime(df['date'].unique().max()) - pd.to_datetime(df['date'].unique().min())\n",
    "    shop_list = df.shop_id.unique().tolist()\n",
    "    days = day_dt.days + 1\n",
    "    len_sample = days\n",
    "    nShop = len(shop_list)\n",
    "    cnt = 0\n",
    "    samples = np.zeros([nShop, len_sample])\n",
    "    for i in range(nShop):\n",
    "        shop_cur = shop_list[i]\n",
    "        df_temp = df[df.shop_id == shop_cur]\n",
    "        df_temp.index = df_temp.date\n",
    "        df_temp = df_temp.sort_index()\n",
    "        sample = df_temp['user_pay_cnt'].values\n",
    "        samples[i] = sample\n",
    "        cnt = cnt + 1\n",
    "        if (cnt % 10) == 0:\n",
    "            print 'Finished %d shop' %(cnt)\n",
    "    return samples"
   ]
  },
  {
   "cell_type": "code",
   "execution_count": 60,
   "metadata": {
    "collapsed": false
   },
   "outputs": [
    {
     "name": "stdout",
     "output_type": "stream",
     "text": [
      "Finished 10 shop\n",
      "Finished 20 shop\n",
      "Finished 30 shop\n",
      "Finished 40 shop\n",
      "Finished 50 shop\n",
      "Finished 60 shop\n"
     ]
    }
   ],
   "source": [
    "samples1 = gen_dataset(df_shopPay1)"
   ]
  },
  {
   "cell_type": "code",
   "execution_count": 61,
   "metadata": {
    "collapsed": false
   },
   "outputs": [],
   "source": [
    "def calcDtw(x, y):\n",
    "    x = samples[0].reshape(-1, 1)\n",
    "    y = samples[1].reshape(-1, 1)\n",
    "    dist, cost, acc, path = dtw.dtw(x, y, dist=lambda x, y: norm(x - y, ord=2))\n",
    "    return dist"
   ]
  },
  {
   "cell_type": "code",
   "execution_count": 62,
   "metadata": {
    "collapsed": true
   },
   "outputs": [],
   "source": [
    "import numpy as np\n",
    "def calcDist(samples, dist):\n",
    "    nSample = len(samples)\n",
    "    X = np.zeros([nSample, nSample])\n",
    "\n",
    "    for k in range(nSample):\n",
    "        x = np.zeros([nSample])\n",
    "        for i in range(nSample):\n",
    "            x[i] = dist(samples[k, :], samples[i, :])\n",
    "        X[k] = x\n",
    "        if k % 10 == 0:\n",
    "            print 'finished 10'\n",
    "            \n",
    "    return X"
   ]
  },
  {
   "cell_type": "code",
   "execution_count": 63,
   "metadata": {
    "collapsed": false
   },
   "outputs": [
    {
     "name": "stdout",
     "output_type": "stream",
     "text": [
      "finished 10\n"
     ]
    },
    {
     "ename": "KeyboardInterrupt",
     "evalue": "",
     "output_type": "error",
     "traceback": [
      "\u001b[1;31m---------------------------------------------------------------------------\u001b[0m",
      "\u001b[1;31mKeyboardInterrupt\u001b[0m                         Traceback (most recent call last)",
      "\u001b[1;32m<ipython-input-63-2a88582c6bd0>\u001b[0m in \u001b[0;36m<module>\u001b[1;34m()\u001b[0m\n\u001b[1;32m----> 1\u001b[1;33m \u001b[0mdists1_dtw\u001b[0m \u001b[1;33m=\u001b[0m \u001b[0mcalcDist\u001b[0m\u001b[1;33m(\u001b[0m\u001b[0msamples1\u001b[0m\u001b[1;33m,\u001b[0m \u001b[0mcalcDtw\u001b[0m\u001b[1;33m)\u001b[0m\u001b[1;33m\u001b[0m\u001b[0m\n\u001b[0m",
      "\u001b[1;32m<ipython-input-62-7ebb04dfbac8>\u001b[0m in \u001b[0;36mcalcDist\u001b[1;34m(samples, dist)\u001b[0m\n\u001b[0;32m      7\u001b[0m         \u001b[0mx\u001b[0m \u001b[1;33m=\u001b[0m \u001b[0mnp\u001b[0m\u001b[1;33m.\u001b[0m\u001b[0mzeros\u001b[0m\u001b[1;33m(\u001b[0m\u001b[1;33m[\u001b[0m\u001b[0mnSample\u001b[0m\u001b[1;33m]\u001b[0m\u001b[1;33m)\u001b[0m\u001b[1;33m\u001b[0m\u001b[0m\n\u001b[0;32m      8\u001b[0m         \u001b[1;32mfor\u001b[0m \u001b[0mi\u001b[0m \u001b[1;32min\u001b[0m \u001b[0mrange\u001b[0m\u001b[1;33m(\u001b[0m\u001b[0mnSample\u001b[0m\u001b[1;33m)\u001b[0m\u001b[1;33m:\u001b[0m\u001b[1;33m\u001b[0m\u001b[0m\n\u001b[1;32m----> 9\u001b[1;33m             \u001b[0mx\u001b[0m\u001b[1;33m[\u001b[0m\u001b[0mi\u001b[0m\u001b[1;33m]\u001b[0m \u001b[1;33m=\u001b[0m \u001b[0mdist\u001b[0m\u001b[1;33m(\u001b[0m\u001b[0msamples\u001b[0m\u001b[1;33m[\u001b[0m\u001b[0mk\u001b[0m\u001b[1;33m,\u001b[0m \u001b[1;33m:\u001b[0m\u001b[1;33m]\u001b[0m\u001b[1;33m,\u001b[0m \u001b[0msamples\u001b[0m\u001b[1;33m[\u001b[0m\u001b[0mi\u001b[0m\u001b[1;33m,\u001b[0m \u001b[1;33m:\u001b[0m\u001b[1;33m]\u001b[0m\u001b[1;33m)\u001b[0m\u001b[1;33m\u001b[0m\u001b[0m\n\u001b[0m\u001b[0;32m     10\u001b[0m         \u001b[0mX\u001b[0m\u001b[1;33m[\u001b[0m\u001b[0mk\u001b[0m\u001b[1;33m]\u001b[0m \u001b[1;33m=\u001b[0m \u001b[0mx\u001b[0m\u001b[1;33m\u001b[0m\u001b[0m\n\u001b[0;32m     11\u001b[0m         \u001b[1;32mif\u001b[0m \u001b[0mk\u001b[0m \u001b[1;33m%\u001b[0m \u001b[1;36m10\u001b[0m \u001b[1;33m==\u001b[0m \u001b[1;36m0\u001b[0m\u001b[1;33m:\u001b[0m\u001b[1;33m\u001b[0m\u001b[0m\n",
      "\u001b[1;32m<ipython-input-61-7fe203ed3779>\u001b[0m in \u001b[0;36mcalcDtw\u001b[1;34m(x, y)\u001b[0m\n\u001b[0;32m      2\u001b[0m     \u001b[0mx\u001b[0m \u001b[1;33m=\u001b[0m \u001b[0msamples\u001b[0m\u001b[1;33m[\u001b[0m\u001b[1;36m0\u001b[0m\u001b[1;33m]\u001b[0m\u001b[1;33m.\u001b[0m\u001b[0mreshape\u001b[0m\u001b[1;33m(\u001b[0m\u001b[1;33m-\u001b[0m\u001b[1;36m1\u001b[0m\u001b[1;33m,\u001b[0m \u001b[1;36m1\u001b[0m\u001b[1;33m)\u001b[0m\u001b[1;33m\u001b[0m\u001b[0m\n\u001b[0;32m      3\u001b[0m     \u001b[0my\u001b[0m \u001b[1;33m=\u001b[0m \u001b[0msamples\u001b[0m\u001b[1;33m[\u001b[0m\u001b[1;36m1\u001b[0m\u001b[1;33m]\u001b[0m\u001b[1;33m.\u001b[0m\u001b[0mreshape\u001b[0m\u001b[1;33m(\u001b[0m\u001b[1;33m-\u001b[0m\u001b[1;36m1\u001b[0m\u001b[1;33m,\u001b[0m \u001b[1;36m1\u001b[0m\u001b[1;33m)\u001b[0m\u001b[1;33m\u001b[0m\u001b[0m\n\u001b[1;32m----> 4\u001b[1;33m     \u001b[0mdist\u001b[0m\u001b[1;33m,\u001b[0m \u001b[0mcost\u001b[0m\u001b[1;33m,\u001b[0m \u001b[0macc\u001b[0m\u001b[1;33m,\u001b[0m \u001b[0mpath\u001b[0m \u001b[1;33m=\u001b[0m \u001b[0mdtw\u001b[0m\u001b[1;33m.\u001b[0m\u001b[0mdtw\u001b[0m\u001b[1;33m(\u001b[0m\u001b[0mx\u001b[0m\u001b[1;33m,\u001b[0m \u001b[0my\u001b[0m\u001b[1;33m,\u001b[0m \u001b[0mdist\u001b[0m\u001b[1;33m=\u001b[0m\u001b[1;32mlambda\u001b[0m \u001b[0mx\u001b[0m\u001b[1;33m,\u001b[0m \u001b[0my\u001b[0m\u001b[1;33m:\u001b[0m \u001b[0mnorm\u001b[0m\u001b[1;33m(\u001b[0m\u001b[0mx\u001b[0m \u001b[1;33m-\u001b[0m \u001b[0my\u001b[0m\u001b[1;33m,\u001b[0m \u001b[0mord\u001b[0m\u001b[1;33m=\u001b[0m\u001b[1;36m2\u001b[0m\u001b[1;33m)\u001b[0m\u001b[1;33m)\u001b[0m\u001b[1;33m\u001b[0m\u001b[0m\n\u001b[0m\u001b[0;32m      5\u001b[0m     \u001b[1;32mreturn\u001b[0m \u001b[0mdist\u001b[0m\u001b[1;33m\u001b[0m\u001b[0m\n",
      "\u001b[1;32mD:\\Anaconda2\\lib\\site-packages\\dtw.pyc\u001b[0m in \u001b[0;36mdtw\u001b[1;34m(x, y, dist)\u001b[0m\n\u001b[0;32m     24\u001b[0m     \u001b[1;32mfor\u001b[0m \u001b[0mi\u001b[0m \u001b[1;32min\u001b[0m \u001b[0mrange\u001b[0m\u001b[1;33m(\u001b[0m\u001b[0mr\u001b[0m\u001b[1;33m)\u001b[0m\u001b[1;33m:\u001b[0m\u001b[1;33m\u001b[0m\u001b[0m\n\u001b[0;32m     25\u001b[0m         \u001b[1;32mfor\u001b[0m \u001b[0mj\u001b[0m \u001b[1;32min\u001b[0m \u001b[0mrange\u001b[0m\u001b[1;33m(\u001b[0m\u001b[0mc\u001b[0m\u001b[1;33m)\u001b[0m\u001b[1;33m:\u001b[0m\u001b[1;33m\u001b[0m\u001b[0m\n\u001b[1;32m---> 26\u001b[1;33m             \u001b[0mD1\u001b[0m\u001b[1;33m[\u001b[0m\u001b[0mi\u001b[0m\u001b[1;33m,\u001b[0m \u001b[0mj\u001b[0m\u001b[1;33m]\u001b[0m \u001b[1;33m+=\u001b[0m \u001b[0mmin\u001b[0m\u001b[1;33m(\u001b[0m\u001b[0mD0\u001b[0m\u001b[1;33m[\u001b[0m\u001b[0mi\u001b[0m\u001b[1;33m,\u001b[0m \u001b[0mj\u001b[0m\u001b[1;33m]\u001b[0m\u001b[1;33m,\u001b[0m \u001b[0mD0\u001b[0m\u001b[1;33m[\u001b[0m\u001b[0mi\u001b[0m\u001b[1;33m,\u001b[0m \u001b[0mj\u001b[0m\u001b[1;33m+\u001b[0m\u001b[1;36m1\u001b[0m\u001b[1;33m]\u001b[0m\u001b[1;33m,\u001b[0m \u001b[0mD0\u001b[0m\u001b[1;33m[\u001b[0m\u001b[0mi\u001b[0m\u001b[1;33m+\u001b[0m\u001b[1;36m1\u001b[0m\u001b[1;33m,\u001b[0m \u001b[0mj\u001b[0m\u001b[1;33m]\u001b[0m\u001b[1;33m)\u001b[0m\u001b[1;33m\u001b[0m\u001b[0m\n\u001b[0m\u001b[0;32m     27\u001b[0m     \u001b[1;32mif\u001b[0m \u001b[0mlen\u001b[0m\u001b[1;33m(\u001b[0m\u001b[0mx\u001b[0m\u001b[1;33m)\u001b[0m\u001b[1;33m==\u001b[0m\u001b[1;36m1\u001b[0m\u001b[1;33m:\u001b[0m\u001b[1;33m\u001b[0m\u001b[0m\n\u001b[0;32m     28\u001b[0m         \u001b[0mpath\u001b[0m \u001b[1;33m=\u001b[0m \u001b[0mzeros\u001b[0m\u001b[1;33m(\u001b[0m\u001b[0mlen\u001b[0m\u001b[1;33m(\u001b[0m\u001b[0my\u001b[0m\u001b[1;33m)\u001b[0m\u001b[1;33m)\u001b[0m\u001b[1;33m,\u001b[0m \u001b[0mrange\u001b[0m\u001b[1;33m(\u001b[0m\u001b[0mlen\u001b[0m\u001b[1;33m(\u001b[0m\u001b[0my\u001b[0m\u001b[1;33m)\u001b[0m\u001b[1;33m)\u001b[0m\u001b[1;33m\u001b[0m\u001b[0m\n",
      "\u001b[1;31mKeyboardInterrupt\u001b[0m: "
     ]
    }
   ],
   "source": [
    "dists1_dtw = calcDist(samples1, calcDtw)"
   ]
  },
  {
   "cell_type": "code",
   "execution_count": 49,
   "metadata": {
    "collapsed": false
   },
   "outputs": [
    {
     "name": "stdout",
     "output_type": "stream",
     "text": [
      "[[ 33.50408998]]\n"
     ]
    }
   ],
   "source": [
    "print dists1_dtw"
   ]
  },
  {
   "cell_type": "code",
   "execution_count": null,
   "metadata": {
    "collapsed": true
   },
   "outputs": [],
   "source": [
    "from sklearn.cluster import DBSCAN\n",
    "from sklearn import metrics\n",
    "from sklearn.datasets.samples_generator import make_blobs\n",
    "from sklearn.preprocessing import StandardScaler\n",
    "\n",
    "metric='precomputed'\n",
    "db = DBSCAN(eps=0.3, min_samples=10, metric=metric).fit(X)\n",
    "core_samples_mask = np.zeros_like(db.labels_, dtype=bool)\n",
    "core_samples_mask[db.core_sample_indices_] = True\n",
    "labels = db.labels_\n",
    "\n",
    "# Number of clusters in labels, ignoring noise if present.\n",
    "n_clusters_ = len(set(labels)) - (1 if -1 in labels else 0)\n",
    "# n_clusters_ = len(labels)\n",
    "print 'Estimated number of clusters: %d，%d' % (n_clusters_, len(set(labels)))\n",
    "print labels"
   ]
  },
  {
   "cell_type": "code",
   "execution_count": null,
   "metadata": {
    "collapsed": true
   },
   "outputs": [],
   "source": [
    "clusCnt = 0\n",
    "y_preds = []\n",
    "y_reals = []\n",
    "for clus in cluster:\n",
    "    print cluster[clus]\n",
    "    df_clus = df_shop_type1[df_shop_type1.shop_id.isin(cluster[clus])]\n",
    "    df_train = df_clus[(df_clus.date >= '2016-07-01') & (df_clus.date < '2016-09-01')]\n",
    "    # df_train = df_shop1[df_shop1.date < '2016-10-19']\n",
    "    df_test = df_clus[df_clus.date >= '2016-10-19']\n",
    "    df_train = df_train[df_train.user_pay_cnt != 0]\n",
    "\n",
    "    y_train = df_train['user_pay_cnt'].values\n",
    "    X_train = df_train.drop(['shop_id', 'date', 'city_name', 'user_pay_cnt', 'cate_3_name'], axis = 1).values\n",
    "    y_test = df_test['user_pay_cnt'].values\n",
    "    X_test = df_test.drop(['shop_id', 'date', 'city_name', 'user_pay_cnt', 'cate_3_name'], axis = 1).values\n",
    "\n",
    "    # model = RandomForestRegressor(n_estimators=100, n_jobs=4, random_state=2)\n",
    "    model = GradientBoostingRegressor(max_depth = 5, max_features = 'sqrt')\n",
    "    y_pred = model.fit(X_train, y_train).predict(X_test)\n",
    "    print 'cluster %d' %clusCnt\n",
    "    print evalue_score(y_pred, y_test), len(y_pred)\n",
    "    y_preds.extend(y_pred.tolist())0\n",
    "    y_reals.extend(y_test.tolist())\n",
    "    clusCnt = clusCnt + 1\n",
    "evalue_score(np.array(y_preds), np.array(y_reals)), len(y_pred)  "
   ]
  }
 ],
 "metadata": {
  "kernelspec": {
   "display_name": "Python 2",
   "language": "python",
   "name": "python2"
  },
  "language_info": {
   "codemirror_mode": {
    "name": "ipython",
    "version": 2
   },
   "file_extension": ".py",
   "mimetype": "text/x-python",
   "name": "python",
   "nbconvert_exporter": "python",
   "pygments_lexer": "ipython2",
   "version": "2.7.11"
  }
 },
 "nbformat": 4,
 "nbformat_minor": 0
}
