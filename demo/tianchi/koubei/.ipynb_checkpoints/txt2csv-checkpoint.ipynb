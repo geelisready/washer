{
 "cells": [
  {
   "cell_type": "code",
   "execution_count": 1,
   "metadata": {
    "collapsed": false
   },
   "outputs": [
    {
     "name": "stdout",
     "output_type": "stream",
     "text": [
      "Populating the interactive namespace from numpy and matplotlib\n"
     ]
    }
   ],
   "source": [
    "#!/usr/bin/env python\n",
    "# coding=utf-8\n",
    "# -------- import basic package --------\n",
    "%pylab inline\n",
    "import pdb\n",
    "import numpy as np\n",
    "import pandas as pd\n",
    "from pandas import Series, DataFrame\n",
    "import warnings\n",
    "from datetime import datetime\n",
    "import matplotlib.pylab as plt\n",
    "\n",
    "PATH = 'F:/codeGit/dataset/koubei/dataset/'\n",
    "FILE_SHOP = 'shop_info.txt'\n",
    "FILE_PAY = 'user_pay.txt'\n",
    "FILE_VIEW = 'user_view.txt'"
   ]
  },
  {
   "cell_type": "code",
   "execution_count": 3,
   "metadata": {
    "collapsed": false
   },
   "outputs": [
    {
     "name": "stdout",
     "output_type": "stream",
     "text": [
      "  shop_id city_name location_id per_pay score comment_cnt shop_level  \\\n",
      "0       1        湖州         885       8     4          12          2   \n",
      "1       2       哈尔滨          64      19                            1   \n",
      "2       3        南昌         774       5     3           2          0   \n",
      "3       4        天津         380      18                            1   \n",
      "4       5        杭州         263       2     2           2          0   \n",
      "5       6        大连        1139      13     3           1          0   \n",
      "6       7        绍兴         145      13     3           9          2   \n",
      "7       8        杭州         234      16     3           1          0   \n",
      "8       9        杭州        1120      15     4           0          1   \n",
      "9      10        孝感          98      10                            0   \n",
      "\n",
      "  cate_1_name cate_2_name cate_3_name  \n",
      "0          美食        休闲茶饮       饮品/甜点  \n",
      "1       超市便利店          超市              \n",
      "2          美食        休闲茶饮          奶茶  \n",
      "3       超市便利店          超市              \n",
      "4          美食        休闲食品        生鲜水果  \n",
      "5          美食        烘焙糕点          面包  \n",
      "6          美食          快餐        西式快餐  \n",
      "7          美食        休闲食品        生鲜水果  \n",
      "8       超市便利店          超市              \n",
      "9       超市便利店          超市              \n"
     ]
    }
   ],
   "source": [
    "file = open(PATH + FILE_SHOP).readlines()\n",
    "data= []\n",
    "isColumns = 1\n",
    "for line in file:\n",
    "    line = line.replace('\\n', '')\n",
    "    array = line.split(',')\n",
    "    data.append(array)\n",
    "    \n",
    "columns = ['shop_id', 'city_name', 'location_id',\n",
    "          'per_pay', 'score', 'comment_cnt',\n",
    "          'shop_level', 'cate_1_name', 'cate_2_name',\n",
    "          'cate_3_name']\n",
    "df = pd.DataFrame(data, columns = columns)\n",
    "print df[:10]\n",
    "df.to_csv(PATH + 'shop_info.csv', index = False, mode = 'w')"
   ]
  },
  {
   "cell_type": "code",
   "execution_count": 2,
   "metadata": {
    "collapsed": false
   },
   "outputs": [
    {
     "name": "stdout",
     "output_type": "stream",
     "text": [
      "here\n",
      "    user_id shop_id                 time\n",
      "0   6816447     416  2015-12-04 12:00:00\n",
      "1   7707564     416  2016-06-20 12:00:00\n",
      "2  20305828     416  2016-04-04 19:00:00\n",
      "3   8968860     416  2016-01-17 21:00:00\n",
      "4  15044361     416  2016-08-05 21:00:00\n",
      "5   6234654     416  2016-08-26 15:00:00\n",
      "6  10215193     416  2016-07-29 20:00:00\n",
      "7  11559832     416  2016-10-07 13:00:00\n",
      "8  21981406     416  2015-12-11 13:00:00\n",
      "9  14250831     416  2016-08-13 14:00:00\n"
     ]
    }
   ],
   "source": [
    "file = open(PATH + FILE_PAY).readlines()\n",
    "data= []\n",
    "isFirst = True\n",
    "columns = ['user_id','shop_id', 'time']\n",
    "cnt = 0\n",
    "chunk_size = 1000000\n",
    "for line in file:\n",
    "    line = line.replace('\\n', '')\n",
    "    array = line.split(',')\n",
    "    data.append(array)\n",
    "    if cnt == chunk_size:\n",
    "        df = pd.DataFrame(data, columns = columns)\n",
    "        if isFirst == True:\n",
    "            df.to_csv(PATH + 'user_pay.csv', index = False, mode = 'w', header = True)\n",
    "            isFirst = False\n",
    "        else:\n",
    "            df.to_csv(PATH + 'user_pay.csv', index = False, mode = 'a', header = False)\n",
    "        cnt = 0\n",
    "        del data\n",
    "        data = []\n",
    "    cnt = cnt + 1\n",
    "df = pd.DataFrame(data, columns = columns)\n",
    "df.to_csv(PATH + 'user_pay.csv', index = False, mode = 'a', header = False)\n",
    "\n",
    "print df[:10]\n",
    "# df.to_csv(PATH + 'user_pay.csv', index = False, mode = 'a')"
   ]
  },
  {
   "cell_type": "code",
   "execution_count": 3,
   "metadata": {
    "collapsed": false
   },
   "outputs": [
    {
     "name": "stdout",
     "output_type": "stream",
     "text": [
      "    user_id shop_id                 time\n",
      "0  13201967    1197  2016-10-21 18:00:00\n",
      "1  19461365    1197  2016-06-28 23:00:00\n",
      "2  15022321    1197  2016-07-16 19:00:00\n",
      "3   5440872    1197  2016-07-15 07:00:00\n",
      "4  12594529    1197  2016-08-07 16:00:00\n",
      "5   5440872    1197  2016-08-12 08:00:00\n",
      "6  19918044    1197  2016-09-03 16:00:00\n",
      "7   9476039    1197  2016-09-04 17:00:00\n",
      "8   4081995    1197  2016-09-25 10:00:00\n",
      "9  12594529    1197  2016-08-07 16:00:00\n"
     ]
    }
   ],
   "source": [
    "file = open(PATH + FILE_VIEW).readlines()\n",
    "data= []\n",
    "isColumns = 1\n",
    "for line in file:\n",
    "    line = line.replace('\\n', '')\n",
    "    array = line.split(',')\n",
    "    data.append(array)\n",
    "    \n",
    "columns = ['user_id','shop_id', 'time']\n",
    "df = pd.DataFrame(data, columns = columns)\n",
    "print df[:10]\n",
    "df.to_csv(PATH + 'user_view.csv', index = False, mode = 'w')"
   ]
  }
 ],
 "metadata": {
  "kernelspec": {
   "display_name": "Python 2",
   "language": "python",
   "name": "python2"
  },
  "language_info": {
   "codemirror_mode": {
    "name": "ipython",
    "version": 2
   },
   "file_extension": ".py",
   "mimetype": "text/x-python",
   "name": "python",
   "nbconvert_exporter": "python",
   "pygments_lexer": "ipython2",
   "version": "2.7.11"
  }
 },
 "nbformat": 4,
 "nbformat_minor": 0
}
