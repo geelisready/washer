{
 "cells": [
  {
   "cell_type": "code",
   "execution_count": 2,
   "metadata": {
    "collapsed": false
   },
   "outputs": [
    {
     "name": "stdout",
     "output_type": "stream",
     "text": [
      "Populating the interactive namespace from numpy and matplotlib\n"
     ]
    }
   ],
   "source": [
    "#!/usr/bin/env python\n",
    "# coding=utf-8\n",
    "# -------- import basic package --------\n",
    "%pylab inline\n",
    "import pdb\n",
    "import numpy as np\n",
    "import pandas as pd\n",
    "from pandas import Series, DataFrame\n",
    "import warnings\n",
    "import random\n",
    "import datetime as dt\n",
    "import matplotlib.pylab as plt\n",
    "\n",
    "PATH = 'F:/codeGit/dataset/koubei/dataset/'\n",
    "FILE_SHOP = 'shop_info.csv'\n",
    "FILE_PAY = 'user_pay.csv'\n",
    "FILE_VIEW = 'user_view.csv'"
   ]
  },
  {
   "cell_type": "code",
   "execution_count": 7,
   "metadata": {
    "collapsed": false
   },
   "outputs": [],
   "source": [
    "df_shop = pd.read_csv(PATH + FILE_SHOP)\n",
    "df_shopPay = pd.read_csv(PATH + 'df_shopPay_fillna.csv')\n",
    "df_shopView = pd.read_csv(PATH + 'df_view_fillna.csv')"
   ]
  },
  {
   "cell_type": "code",
   "execution_count": 8,
   "metadata": {
    "collapsed": false
   },
   "outputs": [
    {
     "name": "stdout",
     "output_type": "stream",
     "text": [
      "Finished 500 shop\n",
      "Finished 1000 shop\n",
      "Finished 1500 shop\n",
      "Finished 2000 shop\n"
     ]
    }
   ],
   "source": [
    "## 生成数据集\n",
    "day_dt = pd.to_datetime('2016.10.31') - pd.to_datetime('2015-07-01')\n",
    "days = day_dt.days\n",
    "len_sample = days\n",
    "cnt = 0\n",
    "samples = np.zeros([len(df_shop), len_sample])\n",
    "for i in range(len(df_shop)):\n",
    "    shop_cur = df_shop['shop_id'].iloc[i]\n",
    "    df_temp = df_shopPay[df_shopPay.shop_id == shop_cur]\n",
    "    df_temp.index = df_temp.date\n",
    "    df_temp = df_temp.sort_index()\n",
    "    sample = df_temp['user_pay_cnt'].values\n",
    "    samples[i] = sample\n",
    "    cnt = cnt + 1\n",
    "    if (cnt % 500) == 0:\n",
    "        print 'Finished %d shop' %(cnt)"
   ]
  },
  {
   "cell_type": "markdown",
   "metadata": {},
   "source": [
    "### 自定义距离"
   ]
  },
  {
   "cell_type": "code",
   "execution_count": 21,
   "metadata": {
    "collapsed": false
   },
   "outputs": [
    {
     "name": "stdout",
     "output_type": "stream",
     "text": [
      "(2000L, 488L) 2000\n"
     ]
    }
   ],
   "source": [
    "print samples.shape, len(samples)"
   ]
  },
  {
   "cell_type": "markdown",
   "metadata": {},
   "source": [
    "#### 欧几里得距离"
   ]
  },
  {
   "cell_type": "code",
   "execution_count": 69,
   "metadata": {
    "collapsed": false
   },
   "outputs": [
    {
     "name": "stdout",
     "output_type": "stream",
     "text": [
      "[[    0.          4594.25869973  4433.38910992 ...,  4043.2553716\n",
      "   3303.38477928  4149.99337349]\n",
      " [ 4594.25869973     0.          3723.70326423 ...,  4506.20849495\n",
      "   4442.06978784  3791.69170688]\n",
      " [ 4433.38910992  3723.70326423     0.         ...,  3096.01728031\n",
      "   4915.61878099  1136.63626548]\n",
      " ..., \n",
      " [ 4043.2553716   4506.20849495  3096.01728031 ...,     0.          4177.46035289\n",
      "   2654.72277272]\n",
      " [ 3303.38477928  4442.06978784  4915.61878099 ...,  4177.46035289     0.\n",
      "   4574.46259139]\n",
      " [ 4149.99337349  3791.69170688  1136.63626548 ...,  2654.72277272\n",
      "   4574.46259139     0.        ]]\n",
      "(2000L, 2000L)\n"
     ]
    }
   ],
   "source": [
    "from sklearn.metrics.pairwise import euclidean_distances\n",
    "distance_matrix =  euclidean_distances(samples)\n",
    "print distance_matrix\n",
    "print distance_matrix.shape"
   ]
  },
  {
   "cell_type": "markdown",
   "metadata": {},
   "source": [
    "#### 皮尔逊系数"
   ]
  },
  {
   "cell_type": "code",
   "execution_count": 23,
   "metadata": {
    "collapsed": false
   },
   "outputs": [
    {
     "name": "stdout",
     "output_type": "stream",
     "text": [
      "finished 100\n",
      "finished 100\n",
      "finished 100\n",
      "finished 100\n",
      "finished 100\n",
      "finished 100\n",
      "finished 100\n",
      "finished 100\n",
      "finished 100\n",
      "finished 100\n",
      "finished 100\n",
      "finished 100\n",
      "finished 100\n",
      "finished 100\n",
      "finished 100\n",
      "finished 100\n",
      "finished 100\n",
      "finished 100\n",
      "finished 100\n",
      "finished 100\n"
     ]
    }
   ],
   "source": [
    "import numpy as np\n",
    "from scipy.stats import pearsonr\n",
    "\n",
    "nSample = len(samples)\n",
    "X = np.zeros([nSample, nSample])\n",
    "             \n",
    "for k in range(nSample):\n",
    "    x = np.zeros([nSample])\n",
    "    for i in range(nSample):\n",
    "        x[i] = pearsonr(samples[k, :], samples[i, :])[0]\n",
    "    X[k] = x\n",
    "    if k % 100 == 0:\n",
    "        print 'finished 100'"
   ]
  },
  {
   "cell_type": "code",
   "execution_count": 50,
   "metadata": {
    "collapsed": false
   },
   "outputs": [
    {
     "name": "stdout",
     "output_type": "stream",
     "text": [
      "[[  1.00000000e+00   1.71014100e-01   2.75156936e-01 ...,   2.09593350e-01\n",
      "    4.18208997e-01   2.50812081e-01]\n",
      " [  1.71014100e-01   1.00000000e+00   6.45204336e-02 ...,  -1.92319972e-04\n",
      "    4.41756948e-01   1.76395831e-02]\n",
      " [  2.75156936e-01   6.45204336e-02   1.00000000e+00 ...,   3.81589771e-01\n",
      "    5.57770351e-01   6.54481965e-01]\n",
      " ..., \n",
      " [  2.09593350e-01  -1.92319972e-04   3.81589771e-01 ...,   1.00000000e+00\n",
      "    4.03633033e-01   5.53052335e-01]\n",
      " [  4.18208997e-01   4.41756948e-01   5.57770351e-01 ...,   4.03633033e-01\n",
      "    1.00000000e+00   4.62843114e-01]\n",
      " [  2.50812081e-01   1.76395831e-02   6.54481965e-01 ...,   5.53052335e-01\n",
      "    4.62843114e-01   1.00000000e+00]] (2000L, 2000L)\n"
     ]
    }
   ],
   "source": [
    "print X, X.shape"
   ]
  },
  {
   "cell_type": "code",
   "execution_count": 76,
   "metadata": {
    "collapsed": true
   },
   "outputs": [],
   "source": [
    "def clusterDetect(labels):\n",
    "    nSample = len(labels)\n",
    "    cluster = {}\n",
    "    # nCluster = len(set(labels))\n",
    "    for i in set(labels):\n",
    "        labels = pd.DataFrame(labels, columns = ['label'])\n",
    "        cluster[i] = labels[labels.label == i].index.tolist()\n",
    "    \n",
    "    noise_cluster = [-1]\n",
    "    nSamlpeNotClustered = 0\n",
    "    sampleNotCluster = []\n",
    "    for i in cluster:\n",
    "        if i in noise_cluster:\n",
    "            nSamlpeNotClustered = nSamlpeNotClustered + len(cluster[i])\n",
    "            sampleNotCluster.extend(cluster[i])\n",
    "    print '%d samples were clustered' %(2000 - nSamlpeNotClustered)\n",
    "    print 'sample not clustered: %s' %(sampleNotCluster)"
   ]
  },
  {
   "cell_type": "markdown",
   "metadata": {},
   "source": [
    "#### 使用DBSCAN聚类"
   ]
  },
  {
   "cell_type": "code",
   "execution_count": null,
   "metadata": {
    "collapsed": true
   },
   "outputs": [],
   "source": [
    "from sklearn.cluster import DBSCAN\n",
    "from sklearn import metrics\n",
    "from sklearn.datasets.samples_generator import make_blobs\n",
    "from sklearn.preprocessing import StandardScaler\n",
    "\n",
    "metric='precomputed'\n",
    "db = DBSCAN(eps=0.3, min_samples=10, metric=metric).fit(X)\n",
    "core_samples_mask = np.zeros_like(db.labels_, dtype=bool)\n",
    "core_samples_mask[db.core_sample_indices_] = True\n",
    "labels = db.labels_\n",
    "\n",
    "# Number of clusters in labels, ignoring noise if present.\n",
    "n_clusters_ = len(set(labels)) - (1 if -1 in labels else 0)\n",
    "# n_clusters_ = len(labels)\n",
    "print 'Estimated number of clusters: %d，%d' % (n_clusters_, len(set(labels)))\n",
    "print labels"
   ]
  },
  {
   "cell_type": "code",
   "execution_count": 97,
   "metadata": {
    "collapsed": false
   },
   "outputs": [
    {
     "name": "stdout",
     "output_type": "stream",
     "text": [
      "Estimated number of clusters: 1，2\n",
      "[0 0 0 ..., 0 0 0]\n",
      "1998 samples were clustered\n",
      "sample not clustered: [16, 728]\n"
     ]
    }
   ],
   "source": [
    "from sklearn.cluster import DBSCAN\n",
    "from sklearn import metrics\n",
    "from sklearn.datasets.samples_generator import make_blobs\n",
    "from sklearn.preprocessing import StandardScaler\n",
    "\n",
    "metric='precomputed'\n",
    "db = DBSCAN(eps=0.3, min_samples=100, metric=metric).fit(X)\n",
    "core_samples_mask = np.zeros_like(db.labels_, dtype=bool)\n",
    "core_samples_mask[db.core_sample_indices_] = True\n",
    "labels = db.labels_\n",
    "\n",
    "# Number of clusters in labels, ignoring noise if present.\n",
    "n_clusters_ = len(set(labels)) - (1 if -1 in labels else 0)\n",
    "# n_clusters_ = len(labels)\n",
    "print 'Estimated number of clusters: %d，%d' % (n_clusters_, len(set(labels)))\n",
    "print labels\n",
    "clusterDetect(labels)"
   ]
  },
  {
   "cell_type": "markdown",
   "metadata": {},
   "source": [
    "#### 使用层次聚类"
   ]
  },
  {
   "cell_type": "code",
   "execution_count": 65,
   "metadata": {
    "collapsed": false
   },
   "outputs": [
    {
     "name": "stdout",
     "output_type": "stream",
     "text": [
      "Estimated number of clusters: 2000，2000\n",
      "[   0    1    2 ..., 1997 1998 1999]\n"
     ]
    }
   ],
   "source": [
    "from sklearn.cluster import AffinityPropagation\n",
    "\n",
    "af1 = AffinityPropagation(affinity='precomputed', preference=-50).fit(X.T)\n",
    "cluster_centers_indices1 = af1.cluster_centers_indices_ # 得到聚类的中心\n",
    "labels1 = af1.labels_ # 得到label\n",
    "n_clusters1 = len(cluster_centers_indices1) # 类的数目\n",
    "# n_clusters_ = len(labels)\n",
    "print 'Estimated number of clusters: %d，%d' % (n_clusters1, len(set(labels1)))\n",
    "print labels1"
   ]
  }
 ],
 "metadata": {
  "kernelspec": {
   "display_name": "Python 2",
   "language": "python",
   "name": "python2"
  },
  "language_info": {
   "codemirror_mode": {
    "name": "ipython",
    "version": 2
   },
   "file_extension": ".py",
   "mimetype": "text/x-python",
   "name": "python",
   "nbconvert_exporter": "python",
   "pygments_lexer": "ipython2",
   "version": "2.7.11"
  }
 },
 "nbformat": 4,
 "nbformat_minor": 0
}
