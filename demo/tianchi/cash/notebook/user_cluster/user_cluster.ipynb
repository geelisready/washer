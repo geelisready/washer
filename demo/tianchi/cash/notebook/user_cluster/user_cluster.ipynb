{
 "cells": [
  {
   "cell_type": "code",
   "execution_count": 1,
   "metadata": {
    "collapsed": false
   },
   "outputs": [
    {
     "name": "stdout",
     "output_type": "stream",
     "text": [
      "Populating the interactive namespace from numpy and matplotlib\n"
     ]
    }
   ],
   "source": [
    "#!/usr/bin/env python\n",
    "# coding=utf-8\n",
    "# -------- import basic package --------\n",
    "%pylab inline\n",
    "import pdb\n",
    "import numpy as np\n",
    "import pandas as pd\n",
    "from pandas import Series, DataFrame\n",
    "import warnings\n",
    "import random\n",
    "from datetime import datetime\n",
    "import matplotlib.pylab as plt\n",
    "\n",
    "PATH = 'F:/codeGit/dataset/Purchase&Redemption/'\n",
    "FILE_BANK = 'mfd_bank_shibor.csv'\n",
    "FILE_SHARE = 'mfd_day_share_interest.csv'\n",
    "FILE_USER_BALANCE = 'user_balance_table.csv'\n",
    "FILE_USER_PROFILE = 'user_profile_table.csv'"
   ]
  },
  {
   "cell_type": "code",
   "execution_count": 7,
   "metadata": {
    "collapsed": false
   },
   "outputs": [
    {
     "name": "stdout",
     "output_type": "stream",
     "text": [
      "   user_id  report_date  tBalance  yBalance  total_purchase_amt  \\\n",
      "0        1     20140805     20385     20383                   2   \n",
      "1        1     20140808     20391     20389                   2   \n",
      "2        1     20140811     20397     20395                   2   \n",
      "3        1     20140814     20403     20401                   2   \n",
      "4        1     20140817     20409     20407                   2   \n",
      "5        1     20140820     20415     20413                   2   \n",
      "6        1     20140823     20421     20419                   2   \n",
      "7        1     20140826     20427     20425                   2   \n",
      "8        1     20140829     20433     20431                   2   \n",
      "9        1     20140830     20435     20433                   2   \n",
      "\n",
      "   direct_purchase_amt  purchase_bal_amt  purchase_bank_amt  total_redeem_amt  \\\n",
      "0                    0                 0                  0                 0   \n",
      "1                    0                 0                  0                 0   \n",
      "2                    0                 0                  0                 0   \n",
      "3                    0                 0                  0                 0   \n",
      "4                    0                 0                  0                 0   \n",
      "5                    0                 0                  0                 0   \n",
      "6                    0                 0                  0                 0   \n",
      "7                    0                 0                  0                 0   \n",
      "8                    0                 0                  0                 0   \n",
      "9                    0                 0                  0                 0   \n",
      "\n",
      "   consume_amt  transfer_amt  tftobal_amt  tftocard_amt  share_amt  category1  \\\n",
      "0            0             0            0             0          2        NaN   \n",
      "1            0             0            0             0          2        NaN   \n",
      "2            0             0            0             0          2        NaN   \n",
      "3            0             0            0             0          2        NaN   \n",
      "4            0             0            0             0          2        NaN   \n",
      "5            0             0            0             0          2        NaN   \n",
      "6            0             0            0             0          2        NaN   \n",
      "7            0             0            0             0          2        NaN   \n",
      "8            0             0            0             0          2        NaN   \n",
      "9            0             0            0             0          2        NaN   \n",
      "\n",
      "   category2  category3  category4  \n",
      "0        NaN        NaN        NaN  \n",
      "1        NaN        NaN        NaN  \n",
      "2        NaN        NaN        NaN  \n",
      "3        NaN        NaN        NaN  \n",
      "4        NaN        NaN        NaN  \n",
      "5        NaN        NaN        NaN  \n",
      "6        NaN        NaN        NaN  \n",
      "7        NaN        NaN        NaN  \n",
      "8        NaN        NaN        NaN  \n",
      "9        NaN        NaN        NaN  \n"
     ]
    }
   ],
   "source": [
    "df_userBalan = pd.read_csv(PATH + FILE_USER_BALANCE)\n",
    "print df_userBalan[:10]"
   ]
  },
  {
   "cell_type": "code",
   "execution_count": 8,
   "metadata": {
    "collapsed": false
   },
   "outputs": [
    {
     "name": "stdout",
     "output_type": "stream",
     "text": [
      "   user_id  total_purchase_amt  consume_amt  transfer_amt       time  \\\n",
      "0        1                   2            0             0 2014-08-05   \n",
      "1        1                   2            0             0 2014-08-08   \n",
      "2        1                   2            0             0 2014-08-11   \n",
      "3        1                   2            0             0 2014-08-14   \n",
      "4        1                   2            0             0 2014-08-17   \n",
      "\n",
      "  year_month  day  weekday  \n",
      "0    2014-08    5        1  \n",
      "1    2014-08    8        4  \n",
      "2    2014-08   11        0  \n",
      "3    2014-08   14        3  \n",
      "4    2014-08   17        6  \n"
     ]
    }
   ],
   "source": [
    "df_userBalan = df_userBalan[[\"user_id\", \"report_date\", \"total_purchase_amt\", \"consume_amt\", \"transfer_amt\"]]\n",
    "df_userBalan['time'] = pd.to_datetime(df_userBalan['report_date'], format = '%Y%m%d')\n",
    "df_userBalan = df_userBalan.drop(['report_date'], axis = 1)\n",
    "df_userBalan['year_month'] = df_userBalan['time'].dt.strftime('%Y-%m')\n",
    "df_userBalan['day'] = df_userBalan['time'].dt.day\n",
    "df_userBalan['weekday'] = df_userBalan['time'].dt.dayofweek\n",
    "df_userBalan.set_index(['user_id', 'year_month'])\n",
    "print df_userBalan[:5]"
   ]
  },
  {
   "cell_type": "code",
   "execution_count": null,
   "metadata": {
    "collapsed": true
   },
   "outputs": [],
   "source": []
  }
 ],
 "metadata": {
  "kernelspec": {
   "display_name": "Python 2",
   "language": "python",
   "name": "python2"
  },
  "language_info": {
   "codemirror_mode": {
    "name": "ipython",
    "version": 2
   },
   "file_extension": ".py",
   "mimetype": "text/x-python",
   "name": "python",
   "nbconvert_exporter": "python",
   "pygments_lexer": "ipython2",
   "version": "2.7.11"
  }
 },
 "nbformat": 4,
 "nbformat_minor": 0
}
