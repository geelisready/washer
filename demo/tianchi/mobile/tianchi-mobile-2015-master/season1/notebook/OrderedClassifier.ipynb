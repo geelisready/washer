{
 "cells": [
  {
   "cell_type": "code",
   "execution_count": 1,
   "metadata": {
    "collapsed": false
   },
   "outputs": [
    {
     "name": "stdout",
     "output_type": "stream",
     "text": [
      "Populating the interactive namespace from numpy and matplotlib\n"
     ]
    }
   ],
   "source": [
    "%pylab inline"
   ]
  },
  {
   "cell_type": "code",
   "execution_count": 2,
   "metadata": {
    "collapsed": true
   },
   "outputs": [],
   "source": [
    "import pandas as pd\n",
    "import datetime as dt"
   ]
  },
  {
   "cell_type": "code",
   "execution_count": 3,
   "metadata": {
    "collapsed": true
   },
   "outputs": [],
   "source": [
    "udf = pd.read_csv('../data/2nd/tianchi_mobile_recommend_train_user_filtered.csv', index_col=['user_id', 'item_id'])\n",
    "u = udf.reset_index()"
   ]
  },
  {
   "cell_type": "code",
   "execution_count": 8,
   "metadata": {
    "collapsed": true
   },
   "outputs": [],
   "source": [
    "def extract_result_set(df, date):\n",
    "    return set(df[(df.date == date) & (df.behavior_type == 4)].index)\n",
    "\n",
    "def f1(pred, ref):\n",
    "    pred_len = float(len(pred))\n",
    "    ref_len = float(len(ref))\n",
    "    intersected_len = len(pred.intersection(ref))\n",
    "    precision = intersected_len / pred_len\n",
    "    recall = intersected_len / ref_len\n",
    "    f = 2 * precision * recall / float(precision + recall)\n",
    "    return f, precision, recall\n",
    "\n",
    "def evaluate_method(case, date):\n",
    "    prev_date = (dt.datetime.strptime(date, '%Y-%m-%d') - dt.timedelta(1)).strftime('%Y-%m-%d')\n",
    "    predict_set = case(udf, prev_date)\n",
    "    result_set = extract_result_set(udf, date)\n",
    "    return f1(predict_set, result_set)\n",
    "\n",
    "def date_range_evaluate_method_plot(case, date1, date2):\n",
    "    selected_date_range = pd.date_range(date1, date2)\n",
    "    analysis = pd.DataFrame(\n",
    "        [list(evaluate_method(case, d.strftime('%Y-%m-%d'))) for d in selected_date_range],\n",
    "        index=selected_date_range,\n",
    "        columns=['f1', 'precision', 'recall']\n",
    "    )\n",
    "    analysis.plot(kind='bar', figsize=(15, 5))\n",
    "    return analysis"
   ]
  },
  {
   "cell_type": "code",
   "execution_count": 13,
   "metadata": {
    "collapsed": true
   },
   "outputs": [],
   "source": [
    "def case2(df, date):\n",
    "    cart_df = df[(df.date == date) & (df.behavior_type == 3) & (df.hour > 15)]\n",
    "    buy_df = df[(df.date == date) & (df.behavior_type == 4)]\n",
    "    \n",
    "    filter_buy_df = cart_df[~cart_df.index.isin(buy_df.index)]\n",
    "    \n",
    "#     bought_lt18_set = set(df[(df.date == date) & (df.behavior_type == 4) & (df.hour <= 18)].reset_index().user_id)\n",
    "#     bought_gt18_set = set(df[(df.date == date) & (df.behavior_type == 4) & (df.hour > 18)].reset_index().user_id)\n",
    "#     filter_buy_df.reset_index(inplace=True)\n",
    "    \n",
    "    return set(filter_buy_df.index)"
   ]
  },
  {
   "cell_type": "code",
   "execution_count": 14,
   "metadata": {
    "collapsed": true
   },
   "outputs": [],
   "source": [
    "def case4(df, date):\n",
    "    label_date = (dt.datetime.strptime(date, '%Y-%m-%d') + dt.timedelta(1)).strftime('%Y-%m-%d')\n",
    "    features_df = pd.read_csv('../data/new2/apr23_train_%s_2nd_all_2.csv' % label_date, index_col=['user_id', 'item_id'])\n",
    "    features_df = pd.merge(features_df.reset_index(),\n",
    "                           df[['item_category']].reset_index().drop_duplicates(),\n",
    "                           on=['user_id', 'item_id'], how='left'\n",
    "                          ).set_index(['user_id', 'item_id'])\n",
    "    \n",
    "    sel = features_df[features_df.index.isin(case2(df, date))]\n",
    "    \n",
    "    def df18_selu(df):\n",
    "        n = int(min(math.ceil(df.item_id.nunique() * 0.8), 5))\n",
    "        del df['user_id']\n",
    "        del df['item_category']\n",
    "        return df.groupby(['item_id']).agg(dict(\n",
    "                last_0_cart='first',\n",
    "                itemCartToBuyRate1='first',\n",
    "                itemCartToBuyRate2='first',\n",
    "                last_0_collect='first',\n",
    "                last_0_browse_times='first',\n",
    "                #usercartToBuyRate1='first',\n",
    "                #usercartToBuyRate2='first',\n",
    "                last_1_cart='first',\n",
    "                last_1_collect='first',\n",
    "                last_1_browse_times='first',\n",
    "                last_2_collect='first',\n",
    "                last_2_cart='first',\n",
    "                last_2_browse_times='first',\n",
    "                item_beh4_at1='first',\n",
    "                item_beh4_at2='first',\n",
    "                item_beh4_at3='first'\n",
    "            )).sort(['last_0_cart','itemCartToBuyRate1', 'itemCartToBuyRate2',\n",
    "                     'item_beh4_at1','item_beh4_at2','item_beh4_at3',\n",
    "                     'last_0_collect','last_0_browse_times',\n",
    "                     # 'usercartToBuyRate1','usercartToBuyRate2',\n",
    "                     'last_1_cart','last_1_collect','last_1_browse_times','last_2_cart','last_2_collect',\n",
    "                     'last_2_browse_times'\n",
    "                    ], ascending=False).head(n)\n",
    "    selu = sel.reset_index().groupby(['user_id', 'item_category']).apply(df18_selu)\n",
    "    \n",
    "    rset = set(selu.reset_index().set_index(['user_id', 'item_id']).index)\n",
    "\n",
    "    return rset"
   ]
  },
  {
   "cell_type": "code",
   "execution_count": 12,
   "metadata": {
    "collapsed": false
   },
   "outputs": [
    {
     "data": {
      "text/plain": [
       "(0.0521388790141012, 0.028888451185083056, 0.2671523982999393)"
      ]
     },
     "execution_count": 12,
     "metadata": {},
     "output_type": "execute_result"
    }
   ],
   "source": [
    "evaluate_method(case4, '2014-12-12')"
   ]
  },
  {
   "cell_type": "code",
   "execution_count": 15,
   "metadata": {
    "collapsed": false
   },
   "outputs": [
    {
     "data": {
      "text/plain": [
       "(0.12388001558239188, 0.17282608695652174, 0.0965391621129326)"
      ]
     },
     "execution_count": 15,
     "metadata": {},
     "output_type": "execute_result"
    }
   ],
   "source": [
    "evaluate_method(case4, '2014-12-12')"
   ]
  },
  {
   "cell_type": "code",
   "execution_count": null,
   "metadata": {
    "collapsed": true
   },
   "outputs": [],
   "source": []
  }
 ],
 "metadata": {
  "kernelspec": {
   "display_name": "Python 2",
   "language": "python",
   "name": "python2"
  },
  "language_info": {
   "codemirror_mode": {
    "name": "ipython",
    "version": 2
   },
   "file_extension": ".py",
   "mimetype": "text/x-python",
   "name": "python",
   "nbconvert_exporter": "python",
   "pygments_lexer": "ipython2",
   "version": "2.7.11"
  }
 },
 "nbformat": 4,
 "nbformat_minor": 0
}
