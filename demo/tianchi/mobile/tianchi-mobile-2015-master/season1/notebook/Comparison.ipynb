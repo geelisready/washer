{
 "cells": [
  {
   "cell_type": "code",
   "execution_count": 1,
   "metadata": {
    "collapsed": false
   },
   "outputs": [
    {
     "name": "stdout",
     "output_type": "stream",
     "text": [
      "Populating the interactive namespace from numpy and matplotlib\n"
     ]
    }
   ],
   "source": [
    "%pylab inline"
   ]
  },
  {
   "cell_type": "code",
   "execution_count": 2,
   "metadata": {
    "collapsed": true
   },
   "outputs": [],
   "source": [
    "import pandas as pd\n",
    "import datetime as dt"
   ]
  },
  {
   "cell_type": "code",
   "execution_count": 3,
   "metadata": {
    "collapsed": true
   },
   "outputs": [],
   "source": [
    "udf = pd.read_csv('../data/2nd/tianchi_mobile_recommend_train_user_filtered.csv', index_col=['user_id', 'item_id'])\n",
    "u = udf.reset_index()"
   ]
  },
  {
   "cell_type": "markdown",
   "metadata": {},
   "source": [
    "## 评估方法定义"
   ]
  },
  {
   "cell_type": "code",
   "execution_count": 27,
   "metadata": {
    "collapsed": false
   },
   "outputs": [],
   "source": [
    "def f1(pred, ref):\n",
    "    pred_len = float(len(pred))\n",
    "    ref_len = float(len(ref))\n",
    "    intersected_len = len(pred.intersection(ref))\n",
    "    precision = intersected_len / pred_len\n",
    "    recall = intersected_len / ref_len\n",
    "    f = 2 * precision * recall / float(precision + recall)\n",
    "    print \"F1: {0}, Precision: {1}, Recall: {2}\".format(f, precision, recall)\n",
    "    return f, precision, recall\n",
    "\n",
    "def evaluate_method(case, date):\n",
    "    prev_date = (dt.datetime.strptime(date, '%Y-%m-%d') - dt.timedelta(1)).strftime('%Y-%m-%d')\n",
    "    predict_set = case(udf, prev_date)\n",
    "    result_set = extract_result_set(udf, date)\n",
    "    return f1(predict_set, result_set)\n",
    "\n",
    "def date_range_evaluate_method_plot(case, date1, date2):\n",
    "    selected_date_range = pd.date_range(date1, date2)\n",
    "    analysis = pd.DataFrame(\n",
    "        [list(evaluate_method(case, d.strftime('%Y-%m-%d'))) for d in selected_date_range],\n",
    "        index=selected_date_range,\n",
    "        columns=['f1', 'precision', 'recall']\n",
    "    )\n",
    "    analysis.plot(kind='bar', figsize=(15, 5))\n",
    "    return analysis"
   ]
  },
  {
   "cell_type": "code",
   "execution_count": 5,
   "metadata": {
    "collapsed": true
   },
   "outputs": [],
   "source": [
    "def extract_label(df, date):\n",
    "    tlabel = df[(df['date'] == pred_date)].groupby(['user_id', 'item_id']).behavior_type.max()\n",
    "    return tlabel.map(lambda d: 1 if d == 4 else 0)"
   ]
  },
  {
   "cell_type": "code",
   "execution_count": 6,
   "metadata": {
    "collapsed": true
   },
   "outputs": [],
   "source": [
    "def extract_result_set(df, date):\n",
    "    return set(df[(df.date == date) & (df.behavior_type == 4)].index)"
   ]
  },
  {
   "cell_type": "markdown",
   "metadata": {},
   "source": [
    "## 方案一\n",
    "\n",
    "1. 通过“添加购物车”行为筛选买家候选；\n",
    "2. 过滤当天已经购买的商品；\n",
    "3. 过滤当天 18 点以后发生购买行为且当天不再购买的用户；"
   ]
  },
  {
   "cell_type": "code",
   "execution_count": 7,
   "metadata": {
    "collapsed": false
   },
   "outputs": [],
   "source": [
    "def case1(df, date):\n",
    "    cart_df = df[(df.date == date) & (df.behavior_type == 3) & (df.hour > 20)]\n",
    "    buy_df = df[(df.date == date) & (df.behavior_type == 4)]\n",
    "    \n",
    "    filter_buy_df = cart_df[~cart_df.index.isin(buy_df.index)]\n",
    "    \n",
    "    bought_lt18_set = set(df[(df.date == date) & (df.behavior_type == 4) & (df.hour <= 18)].reset_index().user_id)\n",
    "    bought_gt18_set = set(df[(df.date == date) & (df.behavior_type == 4) & (df.hour > 18)].reset_index().user_id)\n",
    "    \n",
    "    filter_buy_df.reset_index(inplace=True)\n",
    "    \n",
    "    return set(filter_buy_df[~filter_buy_df.user_id.isin(bought_lt18_set - bought_gt18_set)].set_index(['user_id', 'item_id']).index)"
   ]
  },
  {
   "cell_type": "code",
   "execution_count": 9,
   "metadata": {
    "collapsed": false
   },
   "outputs": [
    {
     "data": {
      "text/plain": [
       "(0.04075691411935953, 0.047619047619047616, 0.035623409669211195)"
      ]
     },
     "execution_count": 9,
     "metadata": {},
     "output_type": "execute_result"
    }
   ],
   "source": [
    "evaluate_method(case1, '2014-12-18')"
   ]
  },
  {
   "cell_type": "markdown",
   "metadata": {},
   "source": [
    "## 方案二\n",
    "\n",
    "1. 通过“添加购物车”行为筛选买家候选；\n",
    "2. 过滤当天已经购买的商品；"
   ]
  },
  {
   "cell_type": "code",
   "execution_count": 10,
   "metadata": {
    "collapsed": true
   },
   "outputs": [],
   "source": [
    "def case2(df, date):\n",
    "    cart_df = df[(df.date == date) & (df.behavior_type == 3) & (df.hour > 15)]\n",
    "    buy_df = df[(df.date == date) & (df.behavior_type == 4)]\n",
    "    \n",
    "    filter_buy_df = cart_df[~cart_df.index.isin(buy_df.index)]\n",
    "    \n",
    "#     bought_lt18_set = set(df[(df.date == date) & (df.behavior_type == 4) & (df.hour <= 18)].reset_index().user_id)\n",
    "#     bought_gt18_set = set(df[(df.date == date) & (df.behavior_type == 4) & (df.hour > 18)].reset_index().user_id)\n",
    "#     filter_buy_df.reset_index(inplace=True)\n",
    "    \n",
    "    return set(filter_buy_df.index)"
   ]
  },
  {
   "cell_type": "code",
   "execution_count": 13,
   "metadata": {
    "collapsed": false,
    "scrolled": true
   },
   "outputs": [
    {
     "data": {
      "text/plain": [
       "(0.043650793650793655, 0.03577235772357724, 0.05597964376590331)"
      ]
     },
     "execution_count": 13,
     "metadata": {},
     "output_type": "execute_result"
    }
   ],
   "source": [
    "evaluate_method(case2, '2014-12-18')"
   ]
  },
  {
   "cell_type": "markdown",
   "metadata": {},
   "source": [
    "## 方案三\n",
    "\n",
    "1. 通过“添加购物车”行为筛选买家候选；\n",
    "2. 过滤当天已经购买的商品；\n",
    "3. 过滤当天发生购买行为的用户（另作考虑）；\n",
    "4. 从当天发生购买行为的用户中进行规则筛选。"
   ]
  },
  {
   "cell_type": "code",
   "execution_count": 16,
   "metadata": {
    "collapsed": true
   },
   "outputs": [],
   "source": [
    "def case3(df, date):\n",
    "    cart_df = df[(df.date == date) & (df.behavior_type == 3) & (df.hour > 20)]\n",
    "    \n",
    "    case1_set = case1(df, date)\n",
    "    case2_set = case2(df, date)\n",
    "    remain_set = case2_set - case1_set\n",
    "    print 'Filtered:', len(remain_set)\n",
    "    \n",
    "    features_df = pd.read_csv('../data/new2/apr23_train_%s_2nd_all_2.csv' % date, index_col=['user_id', 'item_id'])\n",
    "    features_df['user_buy_sum'] = features_df.user_beh4_at1 + features_df.user_beh4_at2 + features_df.user_beh4_at3\n",
    "    features_df['item_buy_sum'] = features_df.item_beh4_at1 + features_df.item_beh4_at2 + features_df.item_beh4_at3\n",
    "    \n",
    "    features_df = pd.merge(features_df.reset_index(), df.reset_index(), on=['user_id', 'item_id'], how='left').set_index(['user_id', 'item_id'])\n",
    "    \n",
    "    sel = features_df[features_df.index.isin(remain_set)]\n",
    "    \n",
    "    def df18_selu(df):\n",
    "        n = int(min(math.ceil(df.item_id.nunique() * 0.8), 5))\n",
    "        del df['user_id']\n",
    "        del df['item_category']\n",
    "        return df.groupby(['item_id']).agg(dict(\n",
    "                last_0_cart='first',\n",
    "                itemCartToBuyRate1='first',\n",
    "                itemCartToBuyRate2='first',\n",
    "                last_0_collect='first',\n",
    "                last_0_browse_times='first',\n",
    "                #usercartToBuyRate1='first',\n",
    "                #usercartToBuyRate2='first',\n",
    "                last_1_cart='first',\n",
    "                last_1_collect='first',\n",
    "                last_1_browse_times='first',\n",
    "                last_2_collect='first',\n",
    "                last_2_cart='first',\n",
    "                last_2_browse_times='first',\n",
    "                item_beh4_at1='first',\n",
    "                item_beh4_at2='first',\n",
    "                item_beh4_at3='first'\n",
    "            )).sort(['last_0_cart','itemCartToBuyRate1', 'itemCartToBuyRate2',\n",
    "                     'item_beh4_at1','item_beh4_at2','item_beh4_at3',\n",
    "                     'last_0_collect','last_0_browse_times',\n",
    "                     # 'usercartToBuyRate1','usercartToBuyRate2',\n",
    "                     'last_1_cart','last_1_collect','last_1_browse_times','last_2_cart','last_2_collect',\n",
    "                     'last_2_browse_times'\n",
    "                    ], ascending=False).head(n)\n",
    "    selu = sel.reset_index().groupby(['user_id', 'item_category']).apply(df18_selu)\n",
    "    if len(selu) > 0:\n",
    "        uset = set(selu.reset_index().set_index(['user_id', 'item_id']).index)\n",
    "        print 'Added:', len(uset)\n",
    "\n",
    "        case3_set = case1_set.copy()\n",
    "\n",
    "        for it in uset: case3_set.add(it)\n",
    "        return case3_set\n",
    "    else:\n",
    "        return case1_set"
   ]
  },
  {
   "cell_type": "code",
   "execution_count": 18,
   "metadata": {
    "collapsed": false,
    "scrolled": true
   },
   "outputs": [
    {
     "name": "stdout",
     "output_type": "stream",
     "text": [
      "Filtered: 321\n",
      "Added: 17\n"
     ]
    },
    {
     "data": {
      "text/plain": [
       "(0.03977272727272727, 0.04501607717041801, 0.035623409669211195)"
      ]
     },
     "execution_count": 18,
     "metadata": {},
     "output_type": "execute_result"
    }
   ],
   "source": [
    "evaluate_method(case3, '2014-12-18')"
   ]
  },
  {
   "cell_type": "markdown",
   "metadata": {},
   "source": [
    "## 方案四\n",
    "\n",
    "1. 抽取转化率、行为数、首次购买小时数作为特征；\n",
    "2. 以用户、分类为标准，根据最后购物车行为、购物车到购买几率等特征进行排序，最多取前五个；"
   ]
  },
  {
   "cell_type": "code",
   "execution_count": 19,
   "metadata": {
    "collapsed": true
   },
   "outputs": [],
   "source": [
    "def case4(df, date):\n",
    "    label_date = (dt.datetime.strptime(date, '%Y-%m-%d') + dt.timedelta(1)).strftime('%Y-%m-%d')\n",
    "    features_df = pd.read_csv('../data/new2/apr23_train_%s_2nd_all_2.csv' % label_date, index_col=['user_id', 'item_id'])\n",
    "    features_df = pd.merge(features_df.reset_index(),\n",
    "                           df[['item_category']].reset_index().drop_duplicates(),\n",
    "                           on=['user_id', 'item_id'], how='left'\n",
    "                          ).set_index(['user_id', 'item_id'])\n",
    "    \n",
    "    sel = features_df[features_df.index.isin(case2(df, date))]\n",
    "    \n",
    "    def df18_selu(df):\n",
    "        n = int(min(math.ceil(df.item_id.nunique() * 0.8), 5))\n",
    "        del df['user_id']\n",
    "        del df['item_category']\n",
    "        return df.groupby(['item_id']).agg(dict(\n",
    "                last_0_cart='first',\n",
    "                itemCartToBuyRate1='first',\n",
    "                itemCartToBuyRate2='first',\n",
    "                last_0_collect='first',\n",
    "                last_0_browse_times='first',\n",
    "                #usercartToBuyRate1='first',\n",
    "                #usercartToBuyRate2='first',\n",
    "                last_1_cart='first',\n",
    "                last_1_collect='first',\n",
    "                last_1_browse_times='first',\n",
    "                last_2_collect='first',\n",
    "                last_2_cart='first',\n",
    "                last_2_browse_times='first',\n",
    "                item_beh4_at1='first',\n",
    "                item_beh4_at2='first',\n",
    "                item_beh4_at3='first'\n",
    "            )).sort(['last_0_cart','itemCartToBuyRate1', 'itemCartToBuyRate2',\n",
    "                     'item_beh4_at1','item_beh4_at2','item_beh4_at3',\n",
    "                     'last_0_collect','last_0_browse_times',\n",
    "                     # 'usercartToBuyRate1','usercartToBuyRate2',\n",
    "                     'last_1_cart','last_1_collect','last_1_browse_times','last_2_cart','last_2_collect',\n",
    "                     'last_2_browse_times'\n",
    "                    ], ascending=False).head(n)\n",
    "    selu = sel.reset_index().groupby(['user_id', 'item_category']).apply(df18_selu)\n",
    "    \n",
    "    rset = set(selu.reset_index().set_index(['user_id', 'item_id']).index)\n",
    "\n",
    "    return rset"
   ]
  },
  {
   "cell_type": "code",
   "execution_count": 37,
   "metadata": {
    "collapsed": false
   },
   "outputs": [
    {
     "name": "stdout",
     "output_type": "stream",
     "text": [
      "F1: 0.0490928495197, Precision: 0.0467479674797, Recall: 0.0516853932584\n"
     ]
    },
    {
     "data": {
      "text/plain": [
       "(0.04909284951974386, 0.046747967479674794, 0.051685393258426963)"
      ]
     },
     "execution_count": 37,
     "metadata": {},
     "output_type": "execute_result"
    }
   ],
   "source": [
    "evaluate_method(case4, '2014-12-16')"
   ]
  },
  {
   "cell_type": "markdown",
   "metadata": {},
   "source": [
    "## 方案五"
   ]
  },
  {
   "cell_type": "code",
   "execution_count": 32,
   "metadata": {
    "collapsed": true
   },
   "outputs": [],
   "source": [
    "def case5(df, date):\n",
    "    label_date = (dt.datetime.strptime(date, '%Y-%m-%d') + dt.timedelta(1)).strftime('%Y-%m-%d')\n",
    "    features_df = pd.read_csv('../data/new2/apr23_train_%s_2nd_all_2.csv' % label_date, index_col=['user_id', 'item_id'])\n",
    "    features_df = pd.merge(features_df.reset_index(),\n",
    "                           df[['item_category']].reset_index().drop_duplicates(),\n",
    "                           on=['user_id', 'item_id'], how='left'\n",
    "                          ).set_index(['user_id', 'item_id'])\n",
    "    \n",
    "    sel = features_df[features_df.index.isin(case2(df, date))]\n",
    "    \n",
    "    def df18_selu(df):\n",
    "        n = int(min(math.ceil(df.item_id.nunique() * 0.8), 5))\n",
    "        del df['user_id']\n",
    "        del df['item_category']\n",
    "        return df.groupby(['item_id']).agg(dict(\n",
    "                last_0_cart='first',\n",
    "                itemCartToBuyRate1='first',\n",
    "                itemCartToBuyRate2='first',\n",
    "                last_0_collect='first',\n",
    "                last_0_browse_times='first',\n",
    "                usercartToBuyRate1='first',\n",
    "                usercartToBuyRate2='first',\n",
    "                last_1_cart='first',\n",
    "                last_1_collect='first',\n",
    "                last_1_browse_times='first',\n",
    "                last_2_collect='first',\n",
    "                last_2_cart='first',\n",
    "                last_2_browse_times='first',\n",
    "                item_beh4_at1='first',\n",
    "                item_beh4_at2='first',\n",
    "                item_beh4_at3='first'\n",
    "            )).sort(['last_0_cart','itemCartToBuyRate1', 'itemCartToBuyRate2',\n",
    "                     'item_beh4_at1','item_beh4_at2','item_beh4_at3',\n",
    "                     'last_0_collect','last_0_browse_times',\n",
    "#                      'usercartToBuyRate1','usercartToBuyRate2',\n",
    "                     'last_1_cart','last_1_collect','last_1_browse_times','last_2_cart','last_2_collect',\n",
    "                     'last_2_browse_times'\n",
    "                    ], ascending=False).head(n)\n",
    "    selu = sel.reset_index().groupby(['user_id', 'item_category']).apply(df18_selu)\n",
    "    \n",
    "    topk = int(len(selu) * 0.9)\n",
    "    selui = selu.reset_index().sort(['usercartToBuyRate1'], ascending=False).head(topk)\n",
    "    \n",
    "    rset1 = set(selu.reset_index().set_index(['user_id', 'item_id']).index)\n",
    "    rset = set(selui.set_index(['user_id', 'item_id']).index)\n",
    "#     print rset1 - rset\n",
    "\n",
    "    return rset"
   ]
  },
  {
   "cell_type": "code",
   "execution_count": 33,
   "metadata": {
    "collapsed": false,
    "scrolled": true
   },
   "outputs": [
    {
     "name": "stdout",
     "output_type": "stream",
     "text": [
      "F1: 0.0401337792642, Precision: 0.0357142857143, Recall: 0.0458015267176\n"
     ]
    },
    {
     "data": {
      "text/plain": [
       "(0.04013377926421404, 0.03571428571428571, 0.04580152671755725)"
      ]
     },
     "execution_count": 33,
     "metadata": {},
     "output_type": "execute_result"
    }
   ],
   "source": [
    "evaluate_method(case5, '2014-12-18')"
   ]
  },
  {
   "cell_type": "markdown",
   "metadata": {},
   "source": [
    "## 方案六\n",
    "\n",
    "从[方案四](#方案四)的思路出发，使用 Logistic Regression 进行学习并分类。"
   ]
  },
  {
   "cell_type": "code",
   "execution_count": 207,
   "metadata": {
    "collapsed": false
   },
   "outputs": [],
   "source": [
    "def case6(date):\n",
    "    datetime = dt.datetime.strptime(date, '%Y-%m-%d')\n",
    "    features_df = pd.read_csv('../data/new2/apr23_train_%s_2nd_all_2.csv' % date, index_col=['user_id', 'item_id'])\n",
    "    \n",
    "    features = [\n",
    "        'last_0_cart',\n",
    "#       'last_0_collect',\n",
    "        'itemCartToBuyRate1',\n",
    "        'itemCartToBuyRate2',\n",
    "        'item_beh4_at1',\n",
    "#       'item_beh4_at2',\n",
    "#       'item_beh4_at3',\n",
    "#       'last_0_collect',\n",
    "#       'last_0_browse_times',\n",
    "        'usercartToBuyRate1',\n",
    "        'usercartToBuyRate2',\n",
    "        'last_1_cart',\n",
    "        'last_1_collect',\n",
    "#       'last_1_browse_times','last_2_cart','last_2_collect',\n",
    "#       'last_2_browse_times'\n",
    "    ]\n",
    "    \n",
    "    from sklearn import linear_model\n",
    "    model = linear_model.LogisticRegression(class_weight={1: 50, 0: 1}, C=0.1, multi_class='ovr')\n",
    "    model.fit(features_df[features].values,\n",
    "              features_df.cla.values)\n",
    "    \n",
    "    def result_set(df, label_date):\n",
    "        features_df = pd.read_csv('../data/new2/apr23_train_%s_2nd_all_2.csv' % label_date, index_col=['user_id', 'item_id'])\n",
    "        train_data = features_df[features].values\n",
    "        ret = model.predict(train_data)\n",
    "        return set(features_df[ret == 1].index)\n",
    "    \n",
    "    return result_set"
   ]
  },
  {
   "cell_type": "code",
   "execution_count": 208,
   "metadata": {
    "collapsed": false,
    "scrolled": true
   },
   "outputs": [
    {
     "data": {
      "text/plain": [
       "(0.008605851979345954, 0.0058823529411764705, 0.016025641025641024)"
      ]
     },
     "execution_count": 208,
     "metadata": {},
     "output_type": "execute_result"
    }
   ],
   "source": [
    "evaluate_method(case6('2014-12-04'), '2014-12-05')"
   ]
  },
  {
   "cell_type": "code",
   "execution_count": 196,
   "metadata": {
    "collapsed": false
   },
   "outputs": [
    {
     "data": {
      "text/plain": [
       "(0.12388001558239188, 0.17282608695652174, 0.0965391621129326)"
      ]
     },
     "execution_count": 196,
     "metadata": {},
     "output_type": "execute_result"
    }
   ],
   "source": [
    "evaluate_method(case4, '2014-12-12')"
   ]
  },
  {
   "cell_type": "markdown",
   "metadata": {},
   "source": [
    "## 方案七"
   ]
  },
  {
   "cell_type": "code",
   "execution_count": null,
   "metadata": {
    "collapsed": true
   },
   "outputs": [],
   "source": [
    "def case7():\n",
    "    pass"
   ]
  },
  {
   "cell_type": "code",
   "execution_count": 71,
   "metadata": {
    "collapsed": true
   },
   "outputs": [],
   "source": [
    "features_df = pd.read_csv('../data/new2/apr23_train_2014-12-04_2nd_all_2.csv')"
   ]
  },
  {
   "cell_type": "code",
   "execution_count": 221,
   "metadata": {
    "collapsed": false,
    "scrolled": true
   },
   "outputs": [
    {
     "data": {
      "image/png": "[encoded data removed]",
      "text/plain": [
       "<matplotlib.figure.Figure at 0x10fb86850>"
      ]
     },
     "metadata": {},
     "output_type": "display_data"
    }
   ],
   "source": [
    "features_df = pd.read_csv('../data/new2/apr23_train_2014-12-06_2nd_all_2.csv')\n",
    "def user_item_count(df):\n",
    "    return len(df[df.cla==1][['user_id', 'item_id']].drop_duplicates()) / float(len(df[['user_id', 'item_id']].drop_duplicates()))\n",
    "g1 = features_df.groupby('last_0_cart').apply(user_item_count)\n",
    "g1.plot(kind='bar', figsize=(15, 5));"
   ]
  },
  {
   "cell_type": "code",
   "execution_count": 223,
   "metadata": {
    "collapsed": false,
    "scrolled": false
   },
   "outputs": [
    {
     "data": {
      "image/png": "[encoded data removed]",
      "text/plain": [
       "<matplotlib.figure.Figure at 0x1100f8690>"
      ]
     },
     "metadata": {},
     "output_type": "display_data"
    }
   ],
   "source": [
    "features_df = pd.read_csv('../data/new2/apr23_train_2014-12-16_2nd_all_2.csv')\n",
    "def user_item_count(df):\n",
    "    return len(df[df.cla==1][['user_id', 'item_id']].drop_duplicates()) / float(len(df[['user_id', 'item_id']].drop_duplicates()))\n",
    "g1 = features_df.groupby('last_0_cart').apply(user_item_count)\n",
    "g1.plot(kind='bar', figsize=(15, 5));"
   ]
  },
  {
   "cell_type": "code",
   "execution_count": 183,
   "metadata": {
    "collapsed": true
   },
   "outputs": [],
   "source": [
    "from sklearn import linear_model, svm"
   ]
  },
  {
   "cell_type": "code",
   "execution_count": null,
   "metadata": {
    "collapsed": true
   },
   "outputs": [],
   "source": [
    "linear_model.LogisticRegression()"
   ]
  },
  {
   "cell_type": "code",
   "execution_count": null,
   "metadata": {
    "collapsed": false
   },
   "outputs": [],
   "source": [
    "def relative_time(df):\n",
    "    a = df.sort(['date', 'hour'], asscending=False)\n",
    "    ret = dict(cart2buy=0, mark2buy=0)\n",
    "    for i, row in a.iterrows():\n",
    "        row.\n",
    "    return pd.Series(ret)\n",
    "u.groupby(['user_id', 'item_id']).apply()"
   ]
  }
 ],
 "metadata": {
  "kernelspec": {
   "display_name": "Python 2",
   "language": "python",
   "name": "python2"
  },
  "language_info": {
   "codemirror_mode": {
    "name": "ipython",
    "version": 2
   },
   "file_extension": ".py",
   "mimetype": "text/x-python",
   "name": "python",
   "nbconvert_exporter": "python",
   "pygments_lexer": "ipython2",
   "version": "2.7.11"
  }
 },
 "nbformat": 4,
 "nbformat_minor": 0
}
