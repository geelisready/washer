{
 "cells": [
  {
   "cell_type": "markdown",
   "metadata": {},
   "source": [
    "> 基于规则的笔记。"
   ]
  },
  {
   "cell_type": "code",
   "execution_count": 56,
   "metadata": {
    "collapsed": false
   },
   "outputs": [
    {
     "name": "stdout",
     "output_type": "stream",
     "text": [
      "Populating the interactive namespace from numpy and matplotlib\n"
     ]
    }
   ],
   "source": [
    "%pylab inline\n",
    "import pandas as pd\n",
    "import datetime as dt\n",
    "from sklearn import svm"
   ]
  },
  {
   "cell_type": "code",
   "execution_count": 28,
   "metadata": {
    "collapsed": true
   },
   "outputs": [],
   "source": [
    "udf = pd.read_csv('../data/2nd/tianchi_mobile_recommend_train_user_filtered.csv', index_col=['user_id', 'item_id'])\n",
    "u = udf.reset_index()"
   ]
  },
  {
   "cell_type": "code",
   "execution_count": 4,
   "metadata": {
    "collapsed": true
   },
   "outputs": [],
   "source": [
    "def f1(pred, ref):\n",
    "    \"\"\" Evaluate the F1 value of the prediction set and reference set.\n",
    "    :param pred: the prediction set.\n",
    "    :param ref:  the reference set.\n",
    "    :return: the F1 value.\n",
    "    \"\"\"\n",
    "    pred_len = float(len(pred))\n",
    "    ref_len = float(len(ref))\n",
    "    intersected_len = len(pred.intersection(ref))\n",
    "    precision = intersected_len / pred_len\n",
    "    recall = intersected_len / ref_len\n",
    "    print \"Hits:\", intersected_len\n",
    "    print \"Precision:\", precision\n",
    "    print \"Recall:\", recall\n",
    "    return 2 * precision * recall / float(precision + recall)"
   ]
  },
  {
   "cell_type": "markdown",
   "metadata": {},
   "source": [
    "## 加入收藏隔天购买"
   ]
  },
  {
   "cell_type": "code",
   "execution_count": 3,
   "metadata": {
    "collapsed": false
   },
   "outputs": [
    {
     "name": "stdout",
     "output_type": "stream",
     "text": [
      "Hits: 26\n",
      "Precision: 0.0491493383743\n",
      "Recall: 0.0663265306122\n"
     ]
    },
    {
     "data": {
      "text/plain": [
       "0.05646036916395222"
      ]
     },
     "execution_count": 3,
     "metadata": {},
     "output_type": "execute_result"
    }
   ],
   "source": [
    "ref = set(u[(u.date == '2014-12-17') & (u.behavior_type == 4)].index)\n",
    "pred = set(u[(u.date == '2014-12-16') & (u.hour >= 17) & ((u.behavior_type == 3) | (u.behavior_type == 3))].index)\n",
    "f1(pred, ref)"
   ]
  },
  {
   "cell_type": "code",
   "execution_count": 6,
   "metadata": {
    "collapsed": false
   },
   "outputs": [
    {
     "name": "stdout",
     "output_type": "stream",
     "text": [
      "总购买量： 432\n"
     ]
    }
   ],
   "source": [
    "print '总购买量：', len(u[(u.date == '2014-12-17') & (u.behavior_type == 4)])"
   ]
  },
  {
   "cell_type": "markdown",
   "metadata": {},
   "source": [
    "## 近期平均转化率"
   ]
  },
  {
   "cell_type": "code",
   "execution_count": 5,
   "metadata": {
    "collapsed": false
   },
   "outputs": [],
   "source": [
    "def item_conversion_recent(df, behavior1, behavior2, date, days=1):\n",
    "    \"\"\"\n",
    "    隔天行为转化的条件概率（转化率）。所用算式：intersection(behavior1, behavior2) / behavior1 。\n",
    "    :param df: 数据集\n",
    "    :param date: 给定的日期\n",
    "    :param behavior1: 给定日期前一天行为\n",
    "    :param behavior2: 给定日期的行为\n",
    "    :param days: 相隔天数\n",
    "    :return: 转化率的系列\n",
    "    :rtype: pd.Series\n",
    "    \"\"\"\n",
    "    prev_date = (dt.datetime.strptime(date, '%Y-%m-%d') - dt.timedelta(days)).strftime('%Y-%m-%d')\n",
    "    items_users1 = df[(df.date == prev_date) & (df.behavior_type == behavior1)].groupby(['item_id', 'user_id']).size()\n",
    "    items_users2 = df[(df.date == date) & (df.behavior_type == behavior2)].groupby(['item_id', 'user_id']).size()\n",
    "    set1 = set(items_users1.index)\n",
    "    set2 = set(items_users2.index)\n",
    "    inter_set = set1.intersection(set2)\n",
    "    items1 = items_users1[items_users1.index.isin(inter_set)].groupby(level=0).sum()\n",
    "    items2 = items_users1.groupby(level=0).sum()\n",
    "    return (items1 / items2).fillna(0)\n",
    "\n",
    "\n",
    "def item_conversion_recent_avg(df, behavior1, behavior2, date, days=1, avg=3):\n",
    "    def recent_df(df, date):\n",
    "        prev_date = (dt.datetime.strptime(date, '%Y-%m-%d') - dt.timedelta(days)).strftime('%Y-%m-%d')\n",
    "        items_users1 = df[(df.date == prev_date) & (df.behavior_type == behavior1)].groupby(\n",
    "            ['item_id', 'user_id']).size()\n",
    "        items_users2 = df[(df.date == date) & (df.behavior_type == behavior2)].groupby(['item_id', 'user_id']).size()\n",
    "        set1 = set(items_users1.index)\n",
    "        set2 = set(items_users2.index)\n",
    "        inter_set = set1.intersection(set2)\n",
    "        items1 = items_users1[items_users1.index.isin(inter_set)].groupby(level=0).sum()\n",
    "        items2 = items_users1.groupby(level=0).sum()\n",
    "        return items1, items2\n",
    "    tmp1 = []\n",
    "    tmp2 = []\n",
    "    for d in [(dt.datetime.strptime(date, '%Y-%m-%d') - dt.timedelta(i)).strftime('%Y-%m-%d') for i in xrange(avg)]:\n",
    "        t = recent_df(df.reset_index(), d)\n",
    "        tmp1.append(t[0])\n",
    "        tmp2.append(t[1])\n",
    "    sum1 = reduce(lambda a, b: a.add(b, fill_value=0), tmp1)\n",
    "    sum2 = reduce(lambda a, b: a.add(b, fill_value=0), tmp2)\n",
    "    return sum1.fillna(0).div(sum2.fillna(1), fill_value=0)"
   ]
  },
  {
   "cell_type": "code",
   "execution_count": 18,
   "metadata": {
    "collapsed": false
   },
   "outputs": [
    {
     "name": "stdout",
     "output_type": "stream",
     "text": [
      "大于 0 的项目数： 175\n"
     ]
    },
    {
     "data": {
      "image/png": "[encoded data removed]",
      "text/plain": [
       "<matplotlib.figure.Figure at 0x1074915d0>"
      ]
     },
     "metadata": {},
     "output_type": "display_data"
    }
   ],
   "source": [
    "tdf = item_conversion_recent_avg(u, 3, 4, '2014-12-18', avg=5)\n",
    "tdf[tdf > 0].hist(bins=10)\n",
    "print '大于 0 的项目数：', len(tdf[tdf > 0])"
   ]
  },
  {
   "cell_type": "code",
   "execution_count": 23,
   "metadata": {
    "collapsed": false
   },
   "outputs": [
    {
     "name": "stdout",
     "output_type": "stream",
     "text": [
      "大于 0 的项目数： 175\n"
     ]
    },
    {
     "data": {
      "image/png": "[encoded data removed]",
      "text/plain": [
       "<matplotlib.figure.Figure at 0x107ffe650>"
      ]
     },
     "metadata": {},
     "output_type": "display_data"
    }
   ],
   "source": [
    "tdf = item_conversion_recent_avg(u, 3, 4, '2014-12-18', avg=5)\n",
    "tdf[tdf > 0].hist(bins=10)\n",
    "print '大于 0 的项目数：', len(tdf[tdf > 0])"
   ]
  },
  {
   "cell_type": "markdown",
   "metadata": {},
   "source": [
    "## 全局转化率"
   ]
  },
  {
   "cell_type": "code",
   "execution_count": 31,
   "metadata": {
    "collapsed": false
   },
   "outputs": [
    {
     "data": {
      "image/png": "[encoded data removed]",
      "text/plain": [
       "<matplotlib.figure.Figure at 0x10b1e2650>"
      ]
     },
     "metadata": {},
     "output_type": "display_data"
    }
   ],
   "source": [
    "tdf = u[u.behavior_type==4].groupby('item_id').size() / u[u.behavior_type==3].groupby('item_id').size()\n",
    "tdf.hist(bins=50, figsize=(15, 5));"
   ]
  },
  {
   "cell_type": "code",
   "execution_count": null,
   "metadata": {
    "collapsed": true
   },
   "outputs": [],
   "source": []
  }
 ],
 "metadata": {
  "kernelspec": {
   "display_name": "Python 2",
   "language": "python",
   "name": "python2"
  },
  "language_info": {
   "codemirror_mode": {
    "name": "ipython",
    "version": 2
   },
   "file_extension": ".py",
   "mimetype": "text/x-python",
   "name": "python",
   "nbconvert_exporter": "python",
   "pygments_lexer": "ipython2",
   "version": "2.7.9"
  }
 },
 "nbformat": 4,
 "nbformat_minor": 0
}
