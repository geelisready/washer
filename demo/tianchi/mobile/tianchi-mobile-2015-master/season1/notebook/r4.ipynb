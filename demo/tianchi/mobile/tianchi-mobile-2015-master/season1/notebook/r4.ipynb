{
 "cells": [
  {
   "cell_type": "code",
   "execution_count": 8,
   "metadata": {
    "collapsed": false
   },
   "outputs": [],
   "source": [
    "import datetime as dt\n",
    "import pandas as pd"
   ]
  },
  {
   "cell_type": "code",
   "execution_count": 10,
   "metadata": {
    "collapsed": true
   },
   "outputs": [],
   "source": [
    "udf = pd.read_csv('../data/2nd/tianchi_mobile_recommend_train_user_filtered.csv', index_col=['user_id', 'item_id'])\n",
    "u = udf.reset_index()"
   ]
  },
  {
   "cell_type": "markdown",
   "metadata": {},
   "source": [
    "## 特征抽取函数"
   ]
  },
  {
   "cell_type": "code",
   "execution_count": 11,
   "metadata": {
    "collapsed": false
   },
   "outputs": [],
   "source": [
    "def user_item_behavior_last_hour(df, date, behavior):\n",
    "    ret = df[(df['date'] == date) & (df['behavior_type'] == behavior)].groupby(['user_id', 'item_id']).hour.max()\n",
    "    return ret\n",
    "\n",
    "def item_behavior_percent(df, behavior_type, date1, date2):\n",
    "    sizes = df[cond].groupby('item_id').size()\n",
    "    all_size = df[(df.date >= date1) & (df.date <= date2) & (df.behavior_type == behavior_type)].size\n",
    "    return sizes / all_size\n",
    "\n",
    "def user_behavior_percent(df, behavior_type, date1, date2):\n",
    "    sizes = df[cond].groupby('user_id').size()\n",
    "    all_size = df[(df.date >= date1) & (df.date <= date2) & (df.behavior_type == behavior_type)].size\n",
    "    return sizes / all_size"
   ]
  },
  {
   "cell_type": "code",
   "execution_count": null,
   "metadata": {
    "collapsed": true
   },
   "outputs": [],
   "source": [
    "for i in pd.date_range('2014-12-14', '2014-12-17'):\n",
    "    "
   ]
  }
 ],
 "metadata": {
  "kernelspec": {
   "display_name": "Python 2",
   "language": "python",
   "name": "python2"
  },
  "language_info": {
   "codemirror_mode": {
    "name": "ipython",
    "version": 2
   },
   "file_extension": ".py",
   "mimetype": "text/x-python",
   "name": "python",
   "nbconvert_exporter": "python",
   "pygments_lexer": "ipython2",
   "version": "2.7.9"
  }
 },
 "nbformat": 4,
 "nbformat_minor": 0
}
