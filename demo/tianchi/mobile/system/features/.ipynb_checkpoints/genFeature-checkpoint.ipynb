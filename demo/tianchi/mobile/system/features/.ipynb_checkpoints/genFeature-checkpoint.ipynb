{
 "cells": [
  {
   "cell_type": "markdown",
   "metadata": {},
   "source": [
    "# Extract features for item"
   ]
  },
  {
   "cell_type": "code",
   "execution_count": 1,
   "metadata": {
    "collapsed": true
   },
   "outputs": [],
   "source": [
    "#!/usr/bin/env python\n",
    "# coding=utf-8\n",
    "# -------- import basic package --------\n",
    "\n",
    "import pdb\n",
    "import numpy as np\n",
    "import pandas as pd\n",
    "from pandas import Series, DataFrame\n",
    "import warnings\n",
    "import datetime as dt\n",
    "\n",
    "\n",
    "# -------- import my package ---------\n",
    "from washer.repairer.isolatedRepairer import GeneralRepairer\n",
    "from washer.rebuilder.data import DataRebuilder\n",
    "from washer.rebuilder.sampleSet import SampleSetRebuilder\n",
    "from washer.feature.statis import StatisFeatureEngine\n",
    "from washer.feature.time import TimeFeatureEngine\n",
    "\n",
    "PATH = 'F:/codeGit/dataset/tianchi_mobile/'\n",
    "FILE_TRAIN = 'tianchi_fresh_comp_train_user.csv'\n",
    "FILE_ITEM = 'tianchi_fresh_comp_train_item.csv'\n",
    "FILE_TEST = 'train_sample_100000.csv'\n",
    "PATH_OF_OFFLINE = 'F:/codeGit/my project/python/dataset/tianchi/offline/'\n",
    "PATH_OF_ONLINE = 'F:/codeGit/my project/python/dataset/tianchi/online/'"
   ]
  },
  {
   "cell_type": "markdown",
   "metadata": {},
   "source": [
    "## Read dataset\n",
    "Here we have loaded two files and set index for tabel 'tianchi_fresh_comp_train_user.csv' to speed up"
   ]
  },
  {
   "cell_type": "code",
   "execution_count": 2,
   "metadata": {
    "collapsed": false
   },
   "outputs": [],
   "source": [
    "def read_dataset(filepath):\n",
    "        warnings.filterwarnings(\"ignore\")\n",
    "        print(\"reading data...\")\n",
    "        df = pd.read_csv(filepath)\n",
    "        print(\"washing data...\")\n",
    "        dr = GeneralRepairer()\n",
    "        df = dr.dropVA(df, 'column')\n",
    "            # remove columns with VA value\n",
    "        df = dr.format_time(df, columns = ['time'])  \n",
    "        return df"
   ]
  },
  {
   "cell_type": "code",
   "execution_count": 3,
   "metadata": {
    "collapsed": false,
    "scrolled": true
   },
   "outputs": [
    {
     "name": "stdout",
     "output_type": "stream",
     "text": [
      "reading data...\n",
      "washing data...\n",
      "    user_id    item_id  behavior_type  item_category                time  \\\n",
      "0  10001082  285259775              1           4076 2014-12-08 18:00:00   \n",
      "1  10001082    4368907              1           5503 2014-12-12 12:00:00   \n",
      "2  10001082    4368907              1           5503 2014-12-12 12:00:00   \n",
      "3  10001082   53616768              1           9762 2014-12-02 15:00:00   \n",
      "4  10001082  151466952              1           5232 2014-12-12 11:00:00   \n",
      "5  10001082   53616768              4           9762 2014-12-02 15:00:00   \n",
      "6  10001082  290088061              1           5503 2014-12-12 12:00:00   \n",
      "7  10001082  298397524              1          10894 2014-12-12 12:00:00   \n",
      "8  10001082   32104252              1           6513 2014-12-12 12:00:00   \n",
      "9  10001082  323339743              1          10894 2014-12-12 12:00:00   \n",
      "\n",
      "         date  hour  \n",
      "0  2014-12-08    18  \n",
      "1  2014-12-12    12  \n",
      "2  2014-12-12    12  \n",
      "3  2014-12-02    15  \n",
      "4  2014-12-12    11  \n",
      "5  2014-12-02    15  \n",
      "6  2014-12-12    12  \n",
      "7  2014-12-12    12  \n",
      "8  2014-12-12    12  \n",
      "9  2014-12-12    12  \n"
     ]
    }
   ],
   "source": [
    "df_train = read_dataset(PATH + FILE_TRAIN)\n",
    "df_train['time'] = pd.to_datetime(df_train['time'])\n",
    "df_train['date'] = df_train['time'].dt.strftime('%Y-%m-%d')\n",
    "df_train['hour'] = df_train['time'].dt.hour\n",
    "df_train.set_index(['user_id', 'item_category', 'item_id'])\n",
    "\n",
    "# df_item = pd.read_csv(FILE_ITEM, index_col=['item_id'])\n",
    "print(df_train.iloc[:10])\n",
    "df = df_train"
   ]
  },
  {
   "cell_type": "markdown",
   "metadata": {},
   "source": [
    "## Extract feature"
   ]
  },
  {
   "cell_type": "code",
   "execution_count": 4,
   "metadata": {
    "collapsed": false
   },
   "outputs": [
    {
     "name": "stdout",
     "output_type": "stream",
     "text": [
      "2014-12-15\n",
      "2014-12-12\n",
      "           user_id    item_id  behavior_type  item_category  \\\n",
      "1         10001082    4368907              1           5503   \n",
      "2         10001082    4368907              1           5503   \n",
      "4         10001082  151466952              1           5232   \n",
      "6         10001082  290088061              1           5503   \n",
      "7         10001082  298397524              1          10894   \n",
      "8         10001082   32104252              1           6513   \n",
      "9         10001082  323339743              1          10894   \n",
      "10        10001082  396795886              1           2825   \n",
      "12        10001082  150720867              1           3200   \n",
      "15        10001082  275221686              1          10576   \n",
      "17        10001082  220586551              1           7079   \n",
      "19        10001082  266563343              1           5232   \n",
      "20        10001082  151466952              1           5232   \n",
      "21        10001082  209290607              1           5894   \n",
      "23        10001082   22667958              1          10523   \n",
      "24        10001082  125083630              1           4722   \n",
      "28        10001082  302705570              1          10894   \n",
      "29        10001082   45258196              1           5894   \n",
      "31        10001082  133020432              1           3200   \n",
      "32        10001082   82238041              1           2825   \n",
      "36        10001082  347100924              1           2825   \n",
      "38        10001082  223569678              1           5653   \n",
      "39        10001082  225520260              1           6513   \n",
      "45        10001082  275221686              1          10576   \n",
      "48        10001082  327034531              1           5894   \n",
      "50        10001082   29558680              1           5232   \n",
      "51        10001082  330054146              1           6513   \n",
      "54        10001082  148776642              1           6255   \n",
      "55        10001082  222375145              1           5503   \n",
      "58        10001082  377161387              1           1863   \n",
      "...            ...        ...            ...            ...   \n",
      "23290647  65341491  257629206              2           1838   \n",
      "23290650  65341491  257629206              1           1838   \n",
      "23290659  65341491   96628368              1           3659   \n",
      "23290660  65341491  146336285              1           7580   \n",
      "23290687  65341491  257629206              1           1838   \n",
      "23290705  65341491  281766303              1          10961   \n",
      "23290706  65341491  137596055              1          12435   \n",
      "23290707  65341491  282445307              1          12435   \n",
      "23290712  65341491  363795036              1           4721   \n",
      "23290731  65341491  322495684              1           5522   \n",
      "23290748  65341491   29292461              1           7322   \n",
      "23290750  65341491  147989619              1           1838   \n",
      "23290766  65341491    3898501              1          10961   \n",
      "23290767  65341491    3898501              1          10961   \n",
      "23290774  65341491  320896968              1           7322   \n",
      "23290775  65341491  231236283              1          10961   \n",
      "23290783  65341491  363795036              1           4721   \n",
      "23290803  65341491  147989619              1           1838   \n",
      "23290808  65341491  137991308              1           7580   \n",
      "23290826  65341491  257629206              1           1838   \n",
      "23290847  65341491  322495684              1           5522   \n",
      "23290848  65341491   96628368              1           3659   \n",
      "23290850  65341491  146336285              1           7580   \n",
      "23290874  65341491  282445307              1          12435   \n",
      "23290885  65341491  231236283              1          10961   \n",
      "23290889  65341491  146336285              1           7580   \n",
      "23290897  65341491  167989332              1          10961   \n",
      "23290962  65341491   96628368              1           3659   \n",
      "23290992  65341491  257629206              1           1838   \n",
      "23291004  65341491  141457412              1          10961   \n",
      "\n",
      "                        time        date  hour  \n",
      "1        2014-12-12 12:00:00  2014-12-12    12  \n",
      "2        2014-12-12 12:00:00  2014-12-12    12  \n",
      "4        2014-12-12 11:00:00  2014-12-12    11  \n",
      "6        2014-12-12 12:00:00  2014-12-12    12  \n",
      "7        2014-12-12 12:00:00  2014-12-12    12  \n",
      "8        2014-12-12 12:00:00  2014-12-12    12  \n",
      "9        2014-12-12 12:00:00  2014-12-12    12  \n",
      "10       2014-12-12 12:00:00  2014-12-12    12  \n",
      "12       2014-12-15 08:00:00  2014-12-15     8  \n",
      "15       2014-12-13 14:00:00  2014-12-13    14  \n",
      "17       2014-12-14 03:00:00  2014-12-14     3  \n",
      "19       2014-12-12 11:00:00  2014-12-12    11  \n",
      "20       2014-12-12 11:00:00  2014-12-12    11  \n",
      "21       2014-12-14 16:00:00  2014-12-14    16  \n",
      "23       2014-12-15 08:00:00  2014-12-15     8  \n",
      "24       2014-12-14 03:00:00  2014-12-14     3  \n",
      "28       2014-12-12 12:00:00  2014-12-12    12  \n",
      "29       2014-12-12 12:00:00  2014-12-12    12  \n",
      "31       2014-12-15 08:00:00  2014-12-15     8  \n",
      "32       2014-12-12 12:00:00  2014-12-12    12  \n",
      "36       2014-12-12 12:00:00  2014-12-12    12  \n",
      "38       2014-12-12 12:00:00  2014-12-12    12  \n",
      "39       2014-12-12 12:00:00  2014-12-12    12  \n",
      "45       2014-12-13 14:00:00  2014-12-13    14  \n",
      "48       2014-12-12 12:00:00  2014-12-12    12  \n",
      "50       2014-12-12 11:00:00  2014-12-12    11  \n",
      "51       2014-12-12 12:00:00  2014-12-12    12  \n",
      "54       2014-12-12 12:00:00  2014-12-12    12  \n",
      "55       2014-12-12 11:00:00  2014-12-12    11  \n",
      "58       2014-12-15 08:00:00  2014-12-15     8  \n",
      "...                      ...         ...   ...  \n",
      "23290647 2014-12-15 15:00:00  2014-12-15    15  \n",
      "23290650 2014-12-15 15:00:00  2014-12-15    15  \n",
      "23290659 2014-12-13 12:00:00  2014-12-13    12  \n",
      "23290660 2014-12-13 19:00:00  2014-12-13    19  \n",
      "23290687 2014-12-15 15:00:00  2014-12-15    15  \n",
      "23290705 2014-12-12 06:00:00  2014-12-12     6  \n",
      "23290706 2014-12-13 13:00:00  2014-12-13    13  \n",
      "23290707 2014-12-13 13:00:00  2014-12-13    13  \n",
      "23290712 2014-12-12 11:00:00  2014-12-12    11  \n",
      "23290731 2014-12-12 06:00:00  2014-12-12     6  \n",
      "23290748 2014-12-13 11:00:00  2014-12-13    11  \n",
      "23290750 2014-12-12 06:00:00  2014-12-12     6  \n",
      "23290766 2014-12-12 06:00:00  2014-12-12     6  \n",
      "23290767 2014-12-12 06:00:00  2014-12-12     6  \n",
      "23290774 2014-12-13 11:00:00  2014-12-13    11  \n",
      "23290775 2014-12-12 06:00:00  2014-12-12     6  \n",
      "23290783 2014-12-12 11:00:00  2014-12-12    11  \n",
      "23290803 2014-12-15 15:00:00  2014-12-15    15  \n",
      "23290808 2014-12-13 19:00:00  2014-12-13    19  \n",
      "23290826 2014-12-15 15:00:00  2014-12-15    15  \n",
      "23290847 2014-12-12 06:00:00  2014-12-12     6  \n",
      "23290848 2014-12-13 12:00:00  2014-12-13    12  \n",
      "23290850 2014-12-13 19:00:00  2014-12-13    19  \n",
      "23290874 2014-12-13 13:00:00  2014-12-13    13  \n",
      "23290885 2014-12-12 06:00:00  2014-12-12     6  \n",
      "23290889 2014-12-13 19:00:00  2014-12-13    19  \n",
      "23290897 2014-12-12 06:00:00  2014-12-12     6  \n",
      "23290962 2014-12-13 12:00:00  2014-12-13    12  \n",
      "23290992 2014-12-15 15:00:00  2014-12-15    15  \n",
      "23291004 2014-12-12 06:00:00  2014-12-12     6  \n",
      "\n",
      "[3665363 rows x 7 columns]\n"
     ]
    }
   ],
   "source": [
    "label_date = '2014-12-16'\n",
    "nDay = 4\n",
    "\n",
    "period_end = (dt.datetime.strptime(label_date, '%Y-%m-%d') - dt.timedelta(1)).strftime('%Y-%m-%d')\n",
    "period_start = (dt.datetime.strptime(label_date, '%Y-%m-%d') - dt.timedelta(nDay)).strftime('%Y-%m-%d')\n",
    "print(period_end); print(period_start)\n",
    "df = df_train\n",
    "df_ld = df[df.date == period_end]\n",
    "df_fd = df[(df.date >= period_start) & (df.date <= period_end)]\n",
    "df_bd = df[(df.date == label_date) & (df.behavior_type == 4)]\n",
    "print(df_fd)"
   ]
  },
  {
   "cell_type": "code",
   "execution_count": 5,
   "metadata": {
    "collapsed": false
   },
   "outputs": [
    {
     "name": "stdout",
     "output_type": "stream",
     "text": [
      "1468412\n",
      "   user_id   item_id  item_category  uid_behav_cnt  uid_buy_cnt\n",
      "0      492   3473697           2413              2          NaN\n",
      "1      492   6983065           9297              2          NaN\n",
      "2      492   9695336           2170              2          NaN\n",
      "3      492  31040941           6986              2          NaN\n",
      "4      492  66870920           3424              2          NaN\n"
     ]
    }
   ],
   "source": [
    "## 统计前4天uid的行为计数\n",
    "fd_group_ui = df_fd.groupby(['user_id', 'item_id'])\n",
    "print(len(fd_group_ui))\n",
    "uic = pd.DataFrame(dict(\n",
    "    # groupby的列就不需要再写出来\n",
    "    item_category = fd_group_ui.item_category.first(),\n",
    "    uid_behav_cnt = fd_group_ui.behavior_type.size(),\n",
    "        # uid的行为总计数\n",
    "    uid_buy_cnt = df_fd[df_fd.behavior_type == 4].groupby(['user_id', 'item_id']).behavior_type.size()\n",
    "        # uid的购买计数\n",
    ")).reset_index()\n",
    "uic = uic[uic.uid_behav_cnt > 0]\n",
    "print(uic.iloc[:5])"
   ]
  },
  {
   "cell_type": "code",
   "execution_count": 6,
   "metadata": {
    "collapsed": false
   },
   "outputs": [
    {
     "name": "stdout",
     "output_type": "stream",
     "text": [
      "   user_id   item_id  first_opt_h  last_buy_h  last_cart_h  last_fav_h  \\\n",
      "0      492  31040941     0.916667         NaN          NaN         NaN   \n",
      "1     3726   2091858     0.916667         NaN          NaN         NaN   \n",
      "2     3726  32998064     0.875000         NaN          NaN         NaN   \n",
      "3     3726  34902851     0.875000         NaN          NaN         NaN   \n",
      "4     3726  72163902     0.875000         NaN          NaN         NaN   \n",
      "\n",
      "   last_opt_h  last_view_h  \n",
      "0    0.916667     0.916667  \n",
      "1    0.916667     0.916667  \n",
      "2    0.875000     0.875000  \n",
      "3    0.875000     0.875000  \n",
      "4    0.875000     0.875000  \n"
     ]
    }
   ],
   "source": [
    "## 统计前1天uid的时间\n",
    "ld_group_ui = df_ld.groupby(['user_id', 'item_id'])\n",
    "uit_ld = pd.DataFrame(dict(\n",
    "    # groupby的列就不需要再写出来\n",
    "    last_view_h = (df_ld[df_ld.behavior_type == 1].groupby(['user_id', 'item_id']).hour.max() + 1) / 24.0,\n",
    "    last_fav_h = (df_ld[df_ld.behavior_type == 2].groupby(['user_id', 'item_id']).hour.max() + 1) / 24.0,\n",
    "    last_cart_h = (df_ld[df_ld.behavior_type == 3].groupby(['user_id', 'item_id']).hour.max() + 1) / 24.0,\n",
    "    last_buy_h = (df_ld[df_ld.behavior_type == 4].groupby(['user_id', 'item_id']).hour.max() + 1) / 24.0,\n",
    "    last_opt_h = (ld_group_ui.hour.max() + 1) / 24.0,\n",
    "    first_opt_h = (ld_group_ui.hour.min() + 1) / 24.0\n",
    "        # uid的购买计数\n",
    ")).reset_index()\n",
    "print(uit_ld.iloc[:5])"
   ]
  },
  {
   "cell_type": "code",
   "execution_count": 7,
   "metadata": {
    "collapsed": false
   },
   "outputs": [
    {
     "name": "stdout",
     "output_type": "stream",
     "text": [
      "   user_id  item_category  uc_behav_cnt  uc_buy_cnt\n",
      "0      492           2170             4         NaN\n",
      "1      492           2413             5         NaN\n",
      "2      492           2926             3         NaN\n",
      "3      492           3424             2         NaN\n",
      "4      492           6986             2         NaN\n"
     ]
    }
   ],
   "source": [
    "## 统计前4天user与category的行为计数\n",
    "fd_group_uc = df_fd.groupby(['user_id', 'item_category'])\n",
    "ucc = pd.DataFrame(dict(\n",
    "    # groupby的列就不需要再写出来\n",
    "    # behavior_type = fd_group_ui.behavior_type.first(),\n",
    "    uc_behav_cnt = fd_group_uc.behavior_type.size(),\n",
    "        # uid的行为总计数\n",
    "    uc_buy_cnt = df_fd[df_fd.behavior_type == 4].groupby(['user_id', 'item_category']).behavior_type.size()\n",
    "        # uid的购买计数\n",
    ")).reset_index()\n",
    "print(ucc.iloc[:5])"
   ]
  },
  {
   "cell_type": "code",
   "execution_count": 8,
   "metadata": {
    "collapsed": false
   },
   "outputs": [
    {
     "name": "stdout",
     "output_type": "stream",
     "text": [
      "   user_id  user_buy_cnt  user_cnt\n",
      "0      492           1.0        50\n",
      "1     3726           NaN        58\n",
      "2    19137           NaN         2\n",
      "3    36465           NaN        12\n",
      "4    37101           NaN       158\n"
     ]
    }
   ],
   "source": [
    "## 统计前4天user的行为计数\n",
    "uc = pd.DataFrame(dict(\n",
    "    user_cnt = df_fd.groupby(['user_id']).behavior_type.size(),\n",
    "        # 获取用户的行为总计数\n",
    "    user_buy_cnt = df_fd[df_fd.behavior_type == 4].groupby(['user_id']).behavior_type.size()\n",
    "        # 获取用户的购买计数\n",
    ")).reset_index()\n",
    "print(uc.iloc[:5]) "
   ]
  },
  {
   "cell_type": "code",
   "execution_count": 9,
   "metadata": {
    "collapsed": false
   },
   "outputs": [
    {
     "name": "stdout",
     "output_type": "stream",
     "text": [
      "   item_id  item_buy_cnt  item_cnt\n",
      "0     2213           NaN         2\n",
      "1     2753           NaN         2\n",
      "2     2817           NaN         2\n",
      "3     2966           NaN         4\n",
      "4     4099           NaN         2\n"
     ]
    }
   ],
   "source": [
    "## 统计前4天商品的行为计数\n",
    "ic = pd.DataFrame(dict(\n",
    "    item_cnt = df_fd.groupby(['item_id']).behavior_type.size(),\n",
    "        # 获取用户的行为总计数\n",
    "    item_buy_cnt = df_fd[df_fd.behavior_type == 4].groupby(['item_id']).behavior_type.size()\n",
    "        # 获取用户的购买计数\n",
    ")).reset_index()\n",
    "print(ic.iloc[:5]) "
   ]
  },
  {
   "cell_type": "code",
   "execution_count": 10,
   "metadata": {
    "collapsed": false
   },
   "outputs": [
    {
     "name": "stdout",
     "output_type": "stream",
     "text": [
      "   item_category  category_buy_cnt  category_cnt\n",
      "0              8               NaN           195\n",
      "1             10               NaN            20\n",
      "2             11               5.0          2521\n",
      "3             12               NaN            57\n",
      "4             13               NaN            11\n"
     ]
    }
   ],
   "source": [
    "## 统计前4天商品类别的行为计数\n",
    "cc = pd.DataFrame(dict(\n",
    "    category_cnt = df_fd.groupby(['item_category']).behavior_type.size(),\n",
    "        # 获取用户的行为总计数\n",
    "    category_buy_cnt = df_fd[df_fd.behavior_type == 4].groupby(['item_category']).behavior_type.size()\n",
    "        # 获取用户的购买计数\n",
    ")).reset_index()\n",
    "print(cc.iloc[:5])"
   ]
  },
  {
   "cell_type": "code",
   "execution_count": 11,
   "metadata": {
    "collapsed": true
   },
   "outputs": [],
   "source": [
    "def getOffsetDate(date, offset):\n",
    "    if offset > 0:\n",
    "        date_next = (dt.datetime.strptime(date, '%Y-%m-%d') + dt.timedelta(offset)).strftime('%Y-%m-%d')\n",
    "    elif offset < 0:\n",
    "        date_next = (dt.datetime.strptime(date, '%Y-%m-%d') - dt.timedelta(offset * -1)).strftime('%Y-%m-%d')    \n",
    "    return date_next"
   ]
  },
  {
   "cell_type": "code",
   "execution_count": 12,
   "metadata": {
    "collapsed": false
   },
   "outputs": [
    {
     "name": "stdout",
     "output_type": "stream",
     "text": [
      "   user_id     item_id  uid_view_cnt_0  uid_fav_cnt_0  uid_cart_cnt_0  \\\n",
      "0    492.0  31040941.0             0.0            0.0             0.0   \n",
      "1   3726.0   2091858.0             0.0            0.0             0.0   \n",
      "2   3726.0  32998064.0             0.0            0.0             0.0   \n",
      "3   3726.0  34902851.0             0.0            0.0             0.0   \n",
      "4   3726.0  72163902.0             0.0            0.0             0.0   \n",
      "\n",
      "   uid_buy_cnt_0  uid_view_cnt_1  uid_fav_cnt_1  uid_cart_cnt_1  \\\n",
      "0            2.0             0.0            0.0             0.0   \n",
      "1            1.0             0.0            0.0             0.0   \n",
      "2            2.0             0.0            0.0             0.0   \n",
      "3            1.0             0.0            0.0             0.0   \n",
      "4            2.0             0.0            0.0             0.0   \n",
      "\n",
      "   uid_buy_cnt_1  uid_view_cnt_2  uid_fav_cnt_2  uid_cart_cnt_2  \\\n",
      "0            0.0             0.0            0.0             0.0   \n",
      "1            0.0             0.0            0.0             0.0   \n",
      "2            0.0             0.0            0.0             0.0   \n",
      "3            0.0             0.0            0.0             0.0   \n",
      "4            0.0             0.0            0.0             0.0   \n",
      "\n",
      "   uid_buy_cnt_2  uid_view_cnt_3  uid_fav_cnt_3  uid_cart_cnt_3  uid_buy_cnt_3  \n",
      "0            0.0             0.0            0.0             0.0            0.0  \n",
      "1            0.0             0.0            0.0             0.0            0.0  \n",
      "2            0.0             0.0            0.0             0.0            0.0  \n",
      "3            0.0             0.0            0.0             0.0            0.0  \n",
      "4            0.0             0.0            0.0             0.0            0.0  \n"
     ]
    }
   ],
   "source": [
    "## 统计前4天uid的浏览，收藏，加购物车，购买行为计数\n",
    "def uid_behavs_cnt_day(df, date):\n",
    "    group_ui = df.groupby(['user_id', 'item_id'])\n",
    "    uic = pd.DataFrame(dict(\n",
    "        # groupby的列就不需要再写出来\n",
    "        # behavior_type = fd_group_ui.behavior_type.first(), \n",
    "        uid_view_cnt = df[df.behavior_type == 1].groupby(['user_id', 'item_id']).behavior_type.size(),\n",
    "        uid_fav_cnt = df[df.behavior_type == 2].groupby(['user_id', 'item_id']).behavior_type.size(),\n",
    "        uid_cart_cnt = df[df.behavior_type == 3].groupby(['user_id', 'item_id']).behavior_type.size(),\n",
    "        uid_buy_cnt = df[df.behavior_type == 4].groupby(['user_id', 'item_id']).behavior_type.size(),\n",
    "            # uid的购买计数\n",
    "    )).reset_index()\n",
    "    return uic\n",
    "\n",
    "uics = []\n",
    "curDate = label_date\n",
    "for i in range(nDay):\n",
    "    curDate = getOffsetDate(curDate, -1)\n",
    "    uic_1day = uid_behavs_cnt_day(df_fd[df_fd.date == curDate], curDate)\n",
    "    uic_1day.columns = ['user_id', 'item_id', 'uid_view_cnt_' + str(i),\n",
    "                'uid_fav_cnt_' + str(i),\n",
    "                'uid_cart_cnt_' + str(i),\n",
    "                'uid_buy_cnt_' + str(i)]\n",
    "    uics.append(uic_1day)\n",
    "\n",
    "uid_behavs_cnt_4day = uics[0]\n",
    "for i in range(nDay - 1):\n",
    "    uid_behavs_cnt_4day = pd.merge(uid_behavs_cnt_4day, \n",
    "                                   uics[i + 1],\n",
    "                                   on = ['user_id', 'item_id'],\n",
    "                                   how = 'outer').fillna(0)\n",
    "    \n",
    "# 先不去全0的行\n",
    "print(uid_behavs_cnt_4day.iloc[:5])"
   ]
  },
  {
   "cell_type": "code",
   "execution_count": 13,
   "metadata": {
    "collapsed": false
   },
   "outputs": [
    {
     "name": "stdout",
     "output_type": "stream",
     "text": [
      "   user_id    item_id  label\n",
      "0    61797   70891762      1\n",
      "1   106362  306522500      1\n",
      "2   169005  219411536      1\n",
      "3   173019  149106899      1\n",
      "4   183987  321832030      1\n"
     ]
    }
   ],
   "source": [
    "## 获取标签\n",
    "ldf = pd.DataFrame(dict(\n",
    "    label = df_bd.groupby(['user_id', 'item_id']).behavior_type.first().map(lambda d: 1)\n",
    "        # 获取label date的是否购买\n",
    ")).reset_index()\n",
    "print(ldf.iloc[:5])"
   ]
  },
  {
   "cell_type": "code",
   "execution_count": 14,
   "metadata": {
    "collapsed": false
   },
   "outputs": [
    {
     "name": "stdout",
     "output_type": "stream",
     "text": [
      "   user_id   item_id  item_category  uid_behav_cnt  uid_buy_cnt  user_buy_cnt  \\\n",
      "0      492   3473697           2413              2          0.0           1.0   \n",
      "1      492   6983065           9297              2          0.0           1.0   \n",
      "2      492   9695336           2170              2          0.0           1.0   \n",
      "3      492  31040941           6986              2          0.0           1.0   \n",
      "4      492  66870920           3424              2          0.0           1.0   \n",
      "\n",
      "   user_cnt  item_buy_cnt  item_cnt  category_buy_cnt      ...        \\\n",
      "0        50           0.0         2              13.0      ...         \n",
      "1        50           0.0         2               8.0      ...         \n",
      "2        50           0.0         2              14.0      ...         \n",
      "3        50           0.0        17               7.0      ...         \n",
      "4        50           0.0         2             289.0      ...         \n",
      "\n",
      "   uid_cart_cnt_1  uid_buy_cnt_1  uid_view_cnt_2  uid_fav_cnt_2  \\\n",
      "0             0.0            0.0             0.0            0.0   \n",
      "1             0.0            0.0             0.0            0.0   \n",
      "2             0.0            0.0             0.0            0.0   \n",
      "3             0.0            0.0             0.0            0.0   \n",
      "4             0.0            0.0             0.0            0.0   \n",
      "\n",
      "   uid_cart_cnt_2  uid_buy_cnt_2  uid_view_cnt_3  uid_fav_cnt_3  \\\n",
      "0             0.0            0.0             0.0            0.0   \n",
      "1             0.0            2.0             0.0            0.0   \n",
      "2             0.0            0.0             0.0            0.0   \n",
      "3             0.0            0.0             0.0            0.0   \n",
      "4             0.0            0.0             0.0            0.0   \n",
      "\n",
      "   uid_cart_cnt_3  uid_buy_cnt_3  \n",
      "0             0.0            2.0  \n",
      "1             0.0            0.0  \n",
      "2             0.0            2.0  \n",
      "3             0.0            0.0  \n",
      "4             0.0            2.0  \n",
      "\n",
      "[5 rows x 35 columns]\n"
     ]
    }
   ],
   "source": [
    "## 合并统计量\n",
    "df_feat = pd.merge(\n",
    "    pd.merge(\n",
    "        pd.merge(\n",
    "            pd.merge(\n",
    "                pd.merge(\n",
    "                    pd.merge(\n",
    "                        uic,\n",
    "                        uc,\n",
    "                        on = ['user_id'], how = 'left'\n",
    "                    ).fillna(0),\n",
    "                    ic,\n",
    "                    on = ['item_id'], how = 'left'\n",
    "                ).fillna(0),\n",
    "                cc,\n",
    "                on = ['item_category'], how = 'left'\n",
    "            ).fillna(0),\n",
    "            ucc,\n",
    "            on = ['user_id', 'item_category'], how = 'left'\n",
    "        ).fillna(0),\n",
    "        uit_ld,\n",
    "        on = ['user_id', 'item_id'], how = 'left'\n",
    "    ).fillna(0),\n",
    "    uid_behavs_cnt_4day,\n",
    "    on = ['user_id', 'item_id'], how = 'left'    \n",
    ").fillna(0)\n",
    "print(df_feat.iloc[:5])"
   ]
  },
  {
   "cell_type": "code",
   "execution_count": 15,
   "metadata": {
    "collapsed": false
   },
   "outputs": [
    {
     "name": "stdout",
     "output_type": "stream",
     "text": [
      "   user_id    item_id  item_category  uid_behav_cnt  uid_buy_cnt  \\\n",
      "0      492    3473697           2413              2          0.0   \n",
      "1      492    6983065           9297              2          0.0   \n",
      "2      492    9695336           2170              2          0.0   \n",
      "3      492   31040941           6986              2          0.0   \n",
      "4      492   66870920           3424              2          0.0   \n",
      "5      492   91901274           7440              5          0.0   \n",
      "6      492  176412424           9247              3          0.0   \n",
      "7      492  186829083           2926              3          0.0   \n",
      "8      492  195583171           9542              2          0.0   \n",
      "9      492  285451158           2170              2          0.0   \n",
      "\n",
      "   user_buy_cnt  user_cnt  item_buy_cnt  item_cnt  category_buy_cnt  \\\n",
      "0           1.0        50           0.0         2              13.0   \n",
      "1           1.0        50           0.0         2               8.0   \n",
      "2           1.0        50           0.0         2              14.0   \n",
      "3           1.0        50           0.0        17               7.0   \n",
      "4           1.0        50           0.0         2             289.0   \n",
      "5           1.0        50           0.0        27             104.0   \n",
      "6           1.0        50           0.0        13             157.0   \n",
      "7           1.0        50           0.0         3               1.0   \n",
      "8           1.0        50           0.0         2               0.0   \n",
      "9           1.0        50           0.0         2              14.0   \n",
      "\n",
      "          ...          uid_buy_cnt_3  user_item_ratio  user_categoty_ratio  \\\n",
      "0         ...                    2.0         0.400000                 0.10   \n",
      "1         ...                    0.0         1.000000                 0.04   \n",
      "2         ...                    2.0         0.500000                 0.08   \n",
      "3         ...                    0.0         1.000000                 0.04   \n",
      "4         ...                    2.0         1.000000                 0.04   \n",
      "5         ...                    3.0         0.714286                 0.14   \n",
      "6         ...                    0.0         1.000000                 0.06   \n",
      "7         ...                    0.0         1.000000                 0.06   \n",
      "8         ...                    2.0         1.000000                 0.04   \n",
      "9         ...                    0.0         0.500000                 0.08   \n",
      "\n",
      "   item_categoty_ratio    item_ratio  user_ratio  categoty_ratio  \\\n",
      "0             0.006969  5.456485e-07    0.000014        0.000078   \n",
      "1             0.003300  5.456485e-07    0.000014        0.000165   \n",
      "2             0.001344  5.456485e-07    0.000014        0.000406   \n",
      "3             0.022457  4.638013e-06    0.000014        0.000207   \n",
      "4             0.000127  5.456485e-07    0.000014        0.004297   \n",
      "5             0.003573  7.366255e-06    0.000014        0.002061   \n",
      "6             0.000763  3.546716e-06    0.000014        0.004647   \n",
      "7             0.013953  8.184728e-07    0.000014        0.000059   \n",
      "8             0.333333  5.456485e-07    0.000014        0.000002   \n",
      "9             0.001344  5.456485e-07    0.000014        0.000406   \n",
      "\n",
      "   user_buy_ratio  item_buy_ratio  category_buy_ratio  \n",
      "0            0.02             0.0            0.045296  \n",
      "1            0.02             0.0            0.013201  \n",
      "2            0.02             0.0            0.009409  \n",
      "3            0.02             0.0            0.009247  \n",
      "4            0.02             0.0            0.018350  \n",
      "5            0.02             0.0            0.013764  \n",
      "6            0.02             0.0            0.009217  \n",
      "7            0.02             0.0            0.004651  \n",
      "8            0.02             0.0            0.000000  \n",
      "9            0.02             0.0            0.009409  \n",
      "\n",
      "[10 rows x 44 columns]\n"
     ]
    }
   ],
   "source": [
    "## 提取比率特征\n",
    "# 提取用户对某商品的行为计数在其类目的行为计数之比\n",
    "df_feat['user_item_ratio'] = df_feat['uid_behav_cnt'] / df_feat['uc_behav_cnt']\n",
    "df_feat['user_categoty_ratio'] = df_feat['uc_behav_cnt'] / df_feat['user_cnt']\n",
    "df_feat['item_categoty_ratio'] = df_feat['item_cnt'] / df_feat['category_cnt']\n",
    "\n",
    "df_feat['item_ratio'] = df_feat['item_cnt'] / len(df_fd)\n",
    "df_feat['user_ratio'] = df_feat['user_cnt'] / len(df_fd)\n",
    "df_feat['categoty_ratio'] = df_feat['category_cnt'] /  len(df_fd)\n",
    "\n",
    "df_feat['user_buy_ratio'] = df_feat['user_buy_cnt'] /  df_feat['user_cnt']\n",
    "df_feat['item_buy_ratio'] = df_feat['item_buy_cnt'] /  df_feat['item_cnt']\n",
    "df_feat['category_buy_ratio'] = df_feat['category_buy_cnt'] /  df_feat['category_cnt']\n",
    "\n",
    "print(df_feat.iloc[:10])\n"
   ]
  },
  {
   "cell_type": "code",
   "execution_count": 16,
   "metadata": {
    "collapsed": false
   },
   "outputs": [
    {
     "name": "stdout",
     "output_type": "stream",
     "text": [
      "   user_id    item_id  item_category  uid_behav_cnt  uid_buy_cnt  \\\n",
      "0      492    3473697           2413              2          0.0   \n",
      "1      492    6983065           9297              2          0.0   \n",
      "2      492    9695336           2170              2          0.0   \n",
      "3      492   31040941           6986              2          0.0   \n",
      "4      492   66870920           3424              2          0.0   \n",
      "5      492   91901274           7440              5          0.0   \n",
      "6      492  176412424           9247              3          0.0   \n",
      "7      492  186829083           2926              3          0.0   \n",
      "8      492  195583171           9542              2          0.0   \n",
      "9      492  285451158           2170              2          0.0   \n",
      "\n",
      "   user_buy_cnt  user_cnt  item_buy_cnt  item_cnt  category_buy_cnt  \\\n",
      "0           1.0        50           0.0         2              13.0   \n",
      "1           1.0        50           0.0         2               8.0   \n",
      "2           1.0        50           0.0         2              14.0   \n",
      "3           1.0        50           0.0        17               7.0   \n",
      "4           1.0        50           0.0         2             289.0   \n",
      "5           1.0        50           0.0        27             104.0   \n",
      "6           1.0        50           0.0        13             157.0   \n",
      "7           1.0        50           0.0         3               1.0   \n",
      "8           1.0        50           0.0         2               0.0   \n",
      "9           1.0        50           0.0         2              14.0   \n",
      "\n",
      "            ...            user_buy_ratio  item_buy_ratio  category_buy_ratio  \\\n",
      "0           ...                      0.02             0.0            0.045296   \n",
      "1           ...                      0.02             0.0            0.013201   \n",
      "2           ...                      0.02             0.0            0.009409   \n",
      "3           ...                      0.02             0.0            0.009247   \n",
      "4           ...                      0.02             0.0            0.018350   \n",
      "5           ...                      0.02             0.0            0.013764   \n",
      "6           ...                      0.02             0.0            0.009217   \n",
      "7           ...                      0.02             0.0            0.004651   \n",
      "8           ...                      0.02             0.0            0.000000   \n",
      "9           ...                      0.02             0.0            0.009409   \n",
      "\n",
      "   item_rank  user_rank  category_rank  user_item_rank  user_category_rank  \\\n",
      "0  1022956.0  1416279.5      1347948.0             2.0                 5.5   \n",
      "1  1022956.0  1416279.5      1262983.5             1.0                14.5   \n",
      "2  1022956.0  1416279.5      1117107.5             1.5                 8.5   \n",
      "3   193648.0  1416279.5      1231732.0             1.0                14.5   \n",
      "4  1022956.0  1416279.5       610396.5             1.0                14.5   \n",
      "5   129134.0  1416279.5       761170.0             1.0                 2.5   \n",
      "6   241493.0  1416279.5       597616.5             1.0                11.0   \n",
      "7   752994.5  1416279.5      1369716.5             1.0                11.0   \n",
      "8  1022956.0  1416279.5      1465893.0             1.0                14.5   \n",
      "9  1022956.0  1416279.5      1117107.5             1.5                 8.5   \n",
      "\n",
      "   item_category_rank  item_category_buy_rank  \n",
      "0                69.0                    61.0  \n",
      "1               155.0                   131.5  \n",
      "2               346.5                   277.5  \n",
      "3                73.0                   162.5  \n",
      "4              3971.0                  3171.5  \n",
      "5               895.5                  1710.0  \n",
      "6              1332.0                  3772.0  \n",
      "7                15.0                    51.0  \n",
      "8                 1.5                     2.5  \n",
      "9               346.5                   277.5  \n",
      "\n",
      "[10 rows x 51 columns]\n"
     ]
    }
   ],
   "source": [
    "## 提取rank特征\n",
    "df_feat['item_rank'] = df_feat['item_cnt'].rank(ascending=False)\n",
    "df_feat['user_rank'] = df_feat['user_cnt'].rank(ascending=False)\n",
    "df_feat['category_rank'] = df_feat['category_cnt'].rank(ascending=False)\n",
    "\n",
    "df_feat['user_item_rank'] = df_feat.groupby(['user_id', 'item_category']).uid_behav_cnt.rank(ascending=False)\n",
    "df_feat['user_category_rank'] = df_feat.groupby(['user_id']).uc_behav_cnt.rank(ascending=False)\n",
    "df_feat['item_category_rank'] = df_feat.groupby(['item_category']).item_cnt.rank(ascending=False)\n",
    "df_feat['item_category_buy_rank'] = df_feat.groupby(['item_category']).item_buy_cnt.rank(ascending=False)\n",
    "print(df_feat.iloc[:10])"
   ]
  },
  {
   "cell_type": "code",
   "execution_count": 17,
   "metadata": {
    "collapsed": false
   },
   "outputs": [],
   "source": [
    "## 保存数据集\n",
    "df_dataset = pd.merge(df_feat, ldf, on=['user_id', 'item_id'], how='left').fillna(0)\n",
    "df_dataset.to_csv(PATH_OF_OFFLINE + 'statisFeat_' + label_date + '_' + str(nDay) + 'days.csv', mode = 'w', index = False)"
   ]
  },
  {
   "cell_type": "code",
   "execution_count": 86,
   "metadata": {
    "collapsed": false
   },
   "outputs": [],
   "source": [
    "def gen_item_behav_cnt_during_time(df, label_date, nDays):\n",
    "    period_end = (dt.datetime.strptime(label_date, '%Y-%m-%d') - dt.timedelta(1)).strftime('%Y-%m-%d')\n",
    "    period_start = (dt.datetime.strptime(label_date, '%Y-%m-%d') - dt.timedelta(nDays)).strftime('%Y-%m-%d')\n",
    "    \n",
    "    df_ld = df[df.date == period_end]\n",
    "    df_fd = df[(df.date >= period_start) & (df.date <= period_end)]\n",
    "    df_bd = df[(df.date == label_date) & (df.behavior_type == 4)]\n",
    "    ## 以uid信息为核心index来组合特征\n",
    "    fd_group_ui = df_fd.groupby(['user_id', 'item_id'])\n",
    "    fd_tb = pd.DataFrame(dict(\n",
    "        # groupby的列就不需要再写出来\n",
    "        # behavior_type = fd_group_ui.behavior_type.first(),\n",
    "        ui_cnt = fd_group_ui.behavior_type.size(),\n",
    "            # uid的行为总计数\n",
    "        behavior_buy_cnt = df_bd[df_bd.behavior_type == 4].groupby(['user_id', 'item_id']).behavior_type.size()\n",
    "            # uid的购买计数\n",
    "    )).reset_index()\n",
    "    print(fd_tb.iloc[:5])\n",
    "    \n",
    "    ## 统计user的信息\n",
    "    u_tb = pd.DataFrame(dict(\n",
    "        user_cnt = df_fd.groupby(['user_id']).behavior_type.size(),\n",
    "            # 获取用户的行为总计数\n",
    "        user_buy_cnt = df_fd[df_fd.behavior_type == 4].groupby(['user_id']).behavior_type.size()\n",
    "            # 获取用户的购买计数\n",
    "    )).reset_index()\n",
    "    print(u_tb.iloc[:5])\n",
    "    \n",
    "    ## 统计商品信息\n",
    "    i_tb = \n",
    "    u_tb = pd.DataFrame(dict(\n",
    "        user_cnt = df_fd.groupby(['user_id']).behavior_type.size(),\n",
    "            # 获取用户的行为总计数\n",
    "        user_buy_cnt = df_fd[df_fd.behavior_type == 4].groupby(['user_id']).behavior_type.size()\n",
    "            # 获取用户的购买计数\n",
    "    )).reset_index()\n",
    "    \n",
    "    print(u_tb.iloc[:5])\n",
    "    df_feat = pd.merge(\n",
    "        fd_tb,\n",
    "        u_tb,\n",
    "        on = ['user_id'], how='left'\n",
    "    ).fillna(0)\n",
    "    \n",
    "    return df_feat\n",
    "    \n",
    "    \n",
    "    \n",
    "    \n",
    "    \n",
    "    \n",
    "    \n",
    "    \n",
    "    \n",
    "    "
   ]
  },
  {
   "cell_type": "code",
   "execution_count": null,
   "metadata": {
    "collapsed": true
   },
   "outputs": [],
   "source": [
    "def gen_item_behav_cnt(df):\n",
    "    group_ub = df.groupby(['item_id', 'behavior_type'])\n",
    "    df_item = pd.DataFrame(dict(\n",
    "            behavior_cnt = group_ub.behavior_type.size()\n",
    "        )).reset_index()\n",
    "    return df_item\n",
    "df_item = gen_item_behav_cnt(df)\n",
    "print(df_item.iloc[:10])  \n"
   ]
  }
 ],
 "metadata": {
  "kernelspec": {
   "display_name": "Python 2",
   "language": "python",
   "name": "python2"
  },
  "language_info": {
   "codemirror_mode": {
    "name": "ipython",
    "version": 2
   },
   "file_extension": ".py",
   "mimetype": "text/x-python",
   "name": "python",
   "nbconvert_exporter": "python",
   "pygments_lexer": "ipython2",
   "version": "2.7.11"
  }
 },
 "nbformat": 4,
 "nbformat_minor": 0
}
