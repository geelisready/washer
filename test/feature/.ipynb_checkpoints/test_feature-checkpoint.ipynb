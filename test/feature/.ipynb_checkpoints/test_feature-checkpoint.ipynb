{
 "cells": [
  {
   "cell_type": "markdown",
   "metadata": {},
   "source": [
    "# Notebook:\n",
    "- part 1: test ClfSelector\n",
    "- part 2: test RegSelector"
   ]
  },
  {
   "cell_type": "code",
   "execution_count": 31,
   "metadata": {
    "collapsed": false
   },
   "outputs": [],
   "source": [
    "from pandas import DataFrame\n",
    "import sys\n",
    "\n",
    "from washer.utils.os import oslib\n",
    "from washer.utils.io import in_stream\n",
    "from washer.feature.selector import ClfSelector\n",
    "\n",
    "PATH = 'F:/codeGit/dataset/basic/'\n",
    "FILE_TITANIC = 'titanic/train.csv'\n",
    "FILE_IRIS = 'iris/iris_data.txt'"
   ]
  },
  {
   "cell_type": "code",
   "execution_count": 2,
   "metadata": {
    "collapsed": false
   },
   "outputs": [],
   "source": [
    "df_iris = in_stream.readTxt2Df(PATH + FILE_IRIS, splitChar = ',')"
   ]
  },
  {
   "cell_type": "code",
   "execution_count": 27,
   "metadata": {
    "collapsed": false
   },
   "outputs": [
    {
     "name": "stdout",
     "output_type": "stream",
     "text": [
      "  sepal_length sepal_width petal_length petal_width        class\n",
      "0          5.1         3.5          1.4         0.2  Iris-setosa\n",
      "1          4.9         3.0          1.4         0.2  Iris-setosa\n",
      "2          4.7         3.2          1.3         0.2  Iris-setosa\n",
      "3          4.6         3.1          1.5         0.2  Iris-setosa\n",
      "4          5.0         3.6          1.4         0.2  Iris-setosa\n"
     ]
    }
   ],
   "source": [
    "df_iris.columns = ['sepal_length', 'sepal_width', 'petal_length', 'petal_width', 'class']\n",
    "df_iris = df_iris.dropna(axis = 0)\n",
    "print df_iris[:5]"
   ]
  },
  {
   "cell_type": "code",
   "execution_count": 16,
   "metadata": {
    "collapsed": false
   },
   "outputs": [
    {
     "name": "stdout",
     "output_type": "stream",
     "text": [
      "[['5.1' '3.5' '1.4' '0.2']\n",
      " ['4.9' '3.0' '1.4' '0.2']\n",
      " ['4.7' '3.2' '1.3' '0.2']\n",
      " ['4.6' '3.1' '1.5' '0.2']\n",
      " ['5.0' '3.6' '1.4' '0.2']\n",
      " ['5.4' '3.9' '1.7' '0.4']\n",
      " ['4.6' '3.4' '1.4' '0.3']\n",
      " ['5.0' '3.4' '1.5' '0.2']\n",
      " ['4.4' '2.9' '1.4' '0.2']\n",
      " ['4.9' '3.1' '1.5' '0.1']\n",
      " ['5.4' '3.7' '1.5' '0.2']\n",
      " ['4.8' '3.4' '1.6' '0.2']\n",
      " ['4.8' '3.0' '1.4' '0.1']\n",
      " ['4.3' '3.0' '1.1' '0.1']\n",
      " ['5.8' '4.0' '1.2' '0.2']\n",
      " ['5.7' '4.4' '1.5' '0.4']\n",
      " ['5.4' '3.9' '1.3' '0.4']\n",
      " ['5.1' '3.5' '1.4' '0.3']\n",
      " ['5.7' '3.8' '1.7' '0.3']\n",
      " ['5.1' '3.8' '1.5' '0.3']\n",
      " ['5.4' '3.4' '1.7' '0.2']\n",
      " ['5.1' '3.7' '1.5' '0.4']\n",
      " ['4.6' '3.6' '1.0' '0.2']\n",
      " ['5.1' '3.3' '1.7' '0.5']\n",
      " ['4.8' '3.4' '1.9' '0.2']\n",
      " ['5.0' '3.0' '1.6' '0.2']\n",
      " ['5.0' '3.4' '1.6' '0.4']\n",
      " ['5.2' '3.5' '1.5' '0.2']\n",
      " ['5.2' '3.4' '1.4' '0.2']\n",
      " ['4.7' '3.2' '1.6' '0.2']\n",
      " ['4.8' '3.1' '1.6' '0.2']\n",
      " ['5.4' '3.4' '1.5' '0.4']\n",
      " ['5.2' '4.1' '1.5' '0.1']\n",
      " ['5.5' '4.2' '1.4' '0.2']\n",
      " ['4.9' '3.1' '1.5' '0.1']\n",
      " ['5.0' '3.2' '1.2' '0.2']\n",
      " ['5.5' '3.5' '1.3' '0.2']\n",
      " ['4.9' '3.1' '1.5' '0.1']\n",
      " ['4.4' '3.0' '1.3' '0.2']\n",
      " ['5.1' '3.4' '1.5' '0.2']\n",
      " ['5.0' '3.5' '1.3' '0.3']\n",
      " ['4.5' '2.3' '1.3' '0.3']\n",
      " ['4.4' '3.2' '1.3' '0.2']\n",
      " ['5.0' '3.5' '1.6' '0.6']\n",
      " ['5.1' '3.8' '1.9' '0.4']\n",
      " ['4.8' '3.0' '1.4' '0.3']\n",
      " ['5.1' '3.8' '1.6' '0.2']\n",
      " ['4.6' '3.2' '1.4' '0.2']\n",
      " ['5.3' '3.7' '1.5' '0.2']\n",
      " ['5.0' '3.3' '1.4' '0.2']\n",
      " ['7.0' '3.2' '4.7' '1.4']\n",
      " ['6.4' '3.2' '4.5' '1.5']\n",
      " ['6.9' '3.1' '4.9' '1.5']\n",
      " ['5.5' '2.3' '4.0' '1.3']\n",
      " ['6.5' '2.8' '4.6' '1.5']\n",
      " ['5.7' '2.8' '4.5' '1.3']\n",
      " ['6.3' '3.3' '4.7' '1.6']\n",
      " ['4.9' '2.4' '3.3' '1.0']\n",
      " ['6.6' '2.9' '4.6' '1.3']\n",
      " ['5.2' '2.7' '3.9' '1.4']\n",
      " ['5.0' '2.0' '3.5' '1.0']\n",
      " ['5.9' '3.0' '4.2' '1.5']\n",
      " ['6.0' '2.2' '4.0' '1.0']\n",
      " ['6.1' '2.9' '4.7' '1.4']\n",
      " ['5.6' '2.9' '3.6' '1.3']\n",
      " ['6.7' '3.1' '4.4' '1.4']\n",
      " ['5.6' '3.0' '4.5' '1.5']\n",
      " ['5.8' '2.7' '4.1' '1.0']\n",
      " ['6.2' '2.2' '4.5' '1.5']\n",
      " ['5.6' '2.5' '3.9' '1.1']\n",
      " ['5.9' '3.2' '4.8' '1.8']\n",
      " ['6.1' '2.8' '4.0' '1.3']\n",
      " ['6.3' '2.5' '4.9' '1.5']\n",
      " ['6.1' '2.8' '4.7' '1.2']\n",
      " ['6.4' '2.9' '4.3' '1.3']\n",
      " ['6.6' '3.0' '4.4' '1.4']\n",
      " ['6.8' '2.8' '4.8' '1.4']\n",
      " ['6.7' '3.0' '5.0' '1.7']\n",
      " ['6.0' '2.9' '4.5' '1.5']\n",
      " ['5.7' '2.6' '3.5' '1.0']\n",
      " ['5.5' '2.4' '3.8' '1.1']\n",
      " ['5.5' '2.4' '3.7' '1.0']\n",
      " ['5.8' '2.7' '3.9' '1.2']\n",
      " ['6.0' '2.7' '5.1' '1.6']\n",
      " ['5.4' '3.0' '4.5' '1.5']\n",
      " ['6.0' '3.4' '4.5' '1.6']\n",
      " ['6.7' '3.1' '4.7' '1.5']\n",
      " ['6.3' '2.3' '4.4' '1.3']\n",
      " ['5.6' '3.0' '4.1' '1.3']\n",
      " ['5.5' '2.5' '4.0' '1.3']\n",
      " ['5.5' '2.6' '4.4' '1.2']\n",
      " ['6.1' '3.0' '4.6' '1.4']\n",
      " ['5.8' '2.6' '4.0' '1.2']\n",
      " ['5.0' '2.3' '3.3' '1.0']\n",
      " ['5.6' '2.7' '4.2' '1.3']\n",
      " ['5.7' '3.0' '4.2' '1.2']\n",
      " ['5.7' '2.9' '4.2' '1.3']\n",
      " ['6.2' '2.9' '4.3' '1.3']\n",
      " ['5.1' '2.5' '3.0' '1.1']\n",
      " ['5.7' '2.8' '4.1' '1.3']\n",
      " ['6.3' '3.3' '6.0' '2.5']\n",
      " ['5.8' '2.7' '5.1' '1.9']\n",
      " ['7.1' '3.0' '5.9' '2.1']\n",
      " ['6.3' '2.9' '5.6' '1.8']\n",
      " ['6.5' '3.0' '5.8' '2.2']\n",
      " ['7.6' '3.0' '6.6' '2.1']\n",
      " ['4.9' '2.5' '4.5' '1.7']\n",
      " ['7.3' '2.9' '6.3' '1.8']\n",
      " ['6.7' '2.5' '5.8' '1.8']\n",
      " ['7.2' '3.6' '6.1' '2.5']\n",
      " ['6.5' '3.2' '5.1' '2.0']\n",
      " ['6.4' '2.7' '5.3' '1.9']\n",
      " ['6.8' '3.0' '5.5' '2.1']\n",
      " ['5.7' '2.5' '5.0' '2.0']\n",
      " ['5.8' '2.8' '5.1' '2.4']\n",
      " ['6.4' '3.2' '5.3' '2.3']\n",
      " ['6.5' '3.0' '5.5' '1.8']\n",
      " ['7.7' '3.8' '6.7' '2.2']\n",
      " ['7.7' '2.6' '6.9' '2.3']\n",
      " ['6.0' '2.2' '5.0' '1.5']\n",
      " ['6.9' '3.2' '5.7' '2.3']\n",
      " ['5.6' '2.8' '4.9' '2.0']\n",
      " ['7.7' '2.8' '6.7' '2.0']\n",
      " ['6.3' '2.7' '4.9' '1.8']\n",
      " ['6.7' '3.3' '5.7' '2.1']\n",
      " ['7.2' '3.2' '6.0' '1.8']\n",
      " ['6.2' '2.8' '4.8' '1.8']\n",
      " ['6.1' '3.0' '4.9' '1.8']\n",
      " ['6.4' '2.8' '5.6' '2.1']\n",
      " ['7.2' '3.0' '5.8' '1.6']\n",
      " ['7.4' '2.8' '6.1' '1.9']\n",
      " ['7.9' '3.8' '6.4' '2.0']\n",
      " ['6.4' '2.8' '5.6' '2.2']\n",
      " ['6.3' '2.8' '5.1' '1.5']\n",
      " ['6.1' '2.6' '5.6' '1.4']\n",
      " ['7.7' '3.0' '6.1' '2.3']\n",
      " ['6.3' '3.4' '5.6' '2.4']\n",
      " ['6.4' '3.1' '5.5' '1.8']\n",
      " ['6.0' '3.0' '4.8' '1.8']\n",
      " ['6.9' '3.1' '5.4' '2.1']\n",
      " ['6.7' '3.1' '5.6' '2.4']\n",
      " ['6.9' '3.1' '5.1' '2.3']\n",
      " ['5.8' '2.7' '5.1' '1.9']\n",
      " ['6.8' '3.2' '5.9' '2.3']\n",
      " ['6.7' '3.3' '5.7' '2.5']\n",
      " ['6.7' '3.0' '5.2' '2.3']\n",
      " ['6.3' '2.5' '5.0' '1.9']\n",
      " ['6.5' '3.0' '5.2' '2.0']\n",
      " ['6.2' '3.4' '5.4' '2.3']\n",
      " ['5.9' '3.0' '5.1' '1.8']] [0 0 0 0 0 0 0 0 0 0 0 0 0 0 0 0 0 0 0 0 0 0 0 0 0 0 0 0 0 0 0 0 0 0 0 0 0\n",
      " 0 0 0 0 0 0 0 0 0 0 0 0 0 1 1 1 1 1 1 1 1 1 1 1 1 1 1 1 1 1 1 1 1 1 1 1 1\n",
      " 1 1 1 1 1 1 1 1 1 1 1 1 1 1 1 1 1 1 1 1 1 1 1 1 1 1 2 2 2 2 2 2 2 2 2 2 2\n",
      " 2 2 2 2 2 2 2 2 2 2 2 2 2 2 2 2 2 2 2 2 2 2 2 2 2 2 2 2 2 2 2 2 2 2 2 2 2\n",
      " 2 2]\n"
     ]
    }
   ],
   "source": [
    "sel = ClfSelector()\n",
    "X, y, le = sel.toXy(df_iris, 'class')\n",
    "print X, y"
   ]
  },
  {
   "cell_type": "code",
   "execution_count": 32,
   "metadata": {
    "collapsed": false
   },
   "outputs": [
    {
     "data": {
      "text/html": [
       "<div>\n",
       "<table border=\"1\" class=\"dataframe\">\n",
       "  <thead>\n",
       "    <tr style=\"text-align: right;\">\n",
       "      <th></th>\n",
       "      <th>col</th>\n",
       "      <th>weight</th>\n",
       "    </tr>\n",
       "  </thead>\n",
       "  <tbody>\n",
       "    <tr>\n",
       "      <th>1</th>\n",
       "      <td>sepal_width</td>\n",
       "      <td>1.46129738856</td>\n",
       "    </tr>\n",
       "    <tr>\n",
       "      <th>0</th>\n",
       "      <td>sepal_length</td>\n",
       "      <td>0.414988328296</td>\n",
       "    </tr>\n",
       "    <tr>\n",
       "      <th>2</th>\n",
       "      <td>petal_length</td>\n",
       "      <td>-2.2621411772</td>\n",
       "    </tr>\n",
       "    <tr>\n",
       "      <th>3</th>\n",
       "      <td>petal_width</td>\n",
       "      <td>-1.02909509924</td>\n",
       "    </tr>\n",
       "  </tbody>\n",
       "</table>\n",
       "</div>"
      ],
      "text/plain": [
       "            col          weight\n",
       "1   sepal_width   1.46129738856\n",
       "0  sepal_length  0.414988328296\n",
       "2  petal_length   -2.2621411772\n",
       "3   petal_width  -1.02909509924"
      ]
     },
     "execution_count": 32,
     "metadata": {},
     "output_type": "execute_result"
    }
   ],
   "source": [
    "# test lr weight\n",
    "oslib.unload(\"washer.feature.selector\")\n",
    "from washer.feature.selector import ClfSelector\n",
    "sel = ClfSelector()\n",
    "sel.calcLrWeight(df_iris, 'class', penalty = 'l2')"
   ]
  },
  {
   "cell_type": "code",
   "execution_count": 36,
   "metadata": {
    "collapsed": false
   },
   "outputs": [
    {
     "data": {
      "text/html": [
       "<div>\n",
       "<table border=\"1\" class=\"dataframe\">\n",
       "  <thead>\n",
       "    <tr style=\"text-align: right;\">\n",
       "      <th></th>\n",
       "      <th>col</th>\n",
       "      <th>gini_importance</th>\n",
       "    </tr>\n",
       "  </thead>\n",
       "  <tbody>\n",
       "    <tr>\n",
       "      <th>3</th>\n",
       "      <td>petal_width</td>\n",
       "      <td>0.504</td>\n",
       "    </tr>\n",
       "    <tr>\n",
       "      <th>2</th>\n",
       "      <td>petal_length</td>\n",
       "      <td>0.3805</td>\n",
       "    </tr>\n",
       "    <tr>\n",
       "      <th>0</th>\n",
       "      <td>sepal_length</td>\n",
       "      <td>0.0956</td>\n",
       "    </tr>\n",
       "    <tr>\n",
       "      <th>1</th>\n",
       "      <td>sepal_width</td>\n",
       "      <td>0.0199</td>\n",
       "    </tr>\n",
       "  </tbody>\n",
       "</table>\n",
       "</div>"
      ],
      "text/plain": [
       "            col gini_importance\n",
       "3   petal_width           0.504\n",
       "2  petal_length          0.3805\n",
       "0  sepal_length          0.0956\n",
       "1   sepal_width          0.0199"
      ]
     },
     "execution_count": 36,
     "metadata": {},
     "output_type": "execute_result"
    }
   ],
   "source": [
    "# test lr weight\n",
    "oslib.unload(\"washer.feature.selector\")\n",
    "from washer.feature.selector import ClfSelector\n",
    "sel = ClfSelector()\n",
    "sel.calcGiniImpor(df_iris, 'class')"
   ]
  },
  {
   "cell_type": "code",
   "execution_count": null,
   "metadata": {
    "collapsed": true
   },
   "outputs": [],
   "source": [
    "from washer.feature.selector import RegSelector\n",
    "sel = RegSelector()\n",
    "sel.calcPearson(df_iris, on = 'class')"
   ]
  }
 ],
 "metadata": {
  "kernelspec": {
   "display_name": "Python 2",
   "language": "python",
   "name": "python2"
  },
  "language_info": {
   "codemirror_mode": {
    "name": "ipython",
    "version": 2
   },
   "file_extension": ".py",
   "mimetype": "text/x-python",
   "name": "python",
   "nbconvert_exporter": "python",
   "pygments_lexer": "ipython2",
   "version": "2.7.11"
  }
 },
 "nbformat": 4,
 "nbformat_minor": 0
}
